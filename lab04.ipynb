{
 "cells": [
  {
   "cell_type": "markdown",
   "metadata": {},
   "source": [
    "# Arquivos"
   ]
  },
  {
   "cell_type": "markdown",
   "metadata": {},
   "source": [
    "### Criando, abrindo, escrevendo e fechando um arquivo"
   ]
  },
  {
   "cell_type": "code",
   "execution_count": null,
   "metadata": {},
   "outputs": [],
   "source": [
    "# Criando um arquivo\n",
    "arquivo = open('numeros.txt','w')  \n",
    "for linha in range(1,101):\n",
    "    arquivo.write(\"%d\\n\" % linha)\n",
    "arquivo.close()"
   ]
  },
  {
   "cell_type": "markdown",
   "metadata": {},
   "source": [
    "|Modo    |     |  Explicação                     |\n",
    "|---------------------------------------|\n",
    "|r  |      | Este é o modo padrão. Abre um arquivo apenas para leitura.<br> O ponteiro do arquivo é colocado no início do arquivo.|\n",
    "|r+ |      | Abre um arquivo para ler e escrever. <br> O ponteiro do arquivo colocado no início do arquivo.|\n",
    "|w  |      | Abre um arquivo apenas para gravação. <br> Substitui o arquivo, se existir. <br> Se o arquivo não existir, cria um novo arquivo para gravação.|\n",
    "|w+ |      | Abre um arquivo para escrita e leitura. <br> Sobrescreve o arquivo existente se o arquivo existir. <br> Se não existir, cria um novo para leitura e escrita.|\n",
    "|a  |      | Abre um arquivo para anexar. <br> O ponteiro do arquivo está no final do arquivo, se o arquivo existir. <br> Se o arquivo não existir, ele cria um novo arquivo para gravação.|\n",
    "|a+ |      | Abre um arquivo para anexar e ler. <br> O ponteiro do arquivo está no final do arquivo, se o arquivo existir.  <br>Se o arquivo não existir, cria um novo arquivo para leitura e gravação.|"
   ]
  },
  {
   "cell_type": "code",
   "execution_count": null,
   "metadata": {},
   "outputs": [],
   "source": [
    "# Abrindo, lendo e fechando um arquivo\n",
    "arquivo = open('numeros.txt', 'r')\n",
    "    #O modo r restringe o programa a apenas a leitura do arquivo\n",
    "for linha in arquivo.readlines():\n",
    "    #readlines: gera uma lista onde cada elemento é uma linha do arquivo\n",
    "    print(linha)\n",
    "arquivo.close()"
   ]
  },
  {
   "cell_type": "code",
   "execution_count": null,
   "metadata": {},
   "outputs": [],
   "source": [
    "# Gravacao de numeros pares e impares em arquivos diferentes\n",
    "impares = open(\"impares.txt\",\"w\")\n",
    "pares = open(\"pares.txt\",\"w\")\n",
    "for n in range(0,100):\n",
    "    if n % 2 == 0:\n",
    "        pares.write(\"%d\\n\" % n)\n",
    "    else:\n",
    "        impares.write(\"%d\\n\" % n)\n",
    "impares.close()\n",
    "pares.close()"
   ]
  },
  {
   "cell_type": "code",
   "execution_count": null,
   "metadata": {},
   "outputs": [],
   "source": [
    "# Filtragem exclusiva dos multiplos de quatro\n",
    "multiplos4 = open(\"multiplos de 4.txt\",\"w\")\n",
    "pares = open(\"pares.txt\")\n",
    "for l in pares.readlines():\n",
    "    if int(l) % 4 == 0:\n",
    "        multiplos4.write(l)\n",
    "pares.close()\n",
    "multiplos4.close()"
   ]
  },
  {
   "cell_type": "code",
   "execution_count": null,
   "metadata": {},
   "outputs": [],
   "source": [
    "file = open(\"multiplos de 4.txt\",\"r\")\n",
    "for i in file.readlines():\n",
    "    print(i)"
   ]
  },
  {
   "cell_type": "code",
   "execution_count": null,
   "metadata": {},
   "outputs": [],
   "source": [
    "# inserindo linhas manualmente\n",
    "arquivo = open(\"arquivo qualquer.txt\", \"w+\")\n",
    "arquivo.write('primeira linha\\n')\n",
    "arquivo.write('segunda linha\\n')\n",
    "arquivo.write('terceira linha\\n')\n",
    "arquivo.close()"
   ]
  },
  {
   "cell_type": "code",
   "execution_count": null,
   "metadata": {},
   "outputs": [],
   "source": [
    "# adicionando mais linhas\n",
    "arquivo = open(\"arquivo qualquer.txt\", \"a\")\n",
    "arquivo.write('quarta linha\\n')\n",
    "arquivo.close()"
   ]
  },
  {
   "cell_type": "code",
   "execution_count": null,
   "metadata": {},
   "outputs": [],
   "source": [
    "arquivo = open(\"arquivo qualquer.txt\", \"r\")\n",
    "for i in arquivo.readlines():\n",
    "    print(i)   "
   ]
  },
  {
   "cell_type": "code",
   "execution_count": null,
   "metadata": {},
   "outputs": [],
   "source": [
    "# Uma vez aberto, o arquivo passa a ser visto como um objeto \n",
    "print(\"O arquivo está fechado? > \", arquivo.closed)\n",
    "print(\"Qual o modo do arquivo? > \", arquivo.mode)\n",
    "print(\"Qual o nome o arquivo?  > \", arquivo.name)\n",
    "arquivo.close()\n",
    "print(\"O arquivo está fechado? > \", arquivo.closed)"
   ]
  },
  {
   "cell_type": "code",
   "execution_count": null,
   "metadata": {},
   "outputs": [],
   "source": [
    "# deletando arquivo\n",
    "import os\n",
    "os.remove(\"arquivo qualquer.txt\")"
   ]
  },
  {
   "cell_type": "markdown",
   "metadata": {},
   "source": [
    "### Manipulando uma tabela do Excel"
   ]
  },
  {
   "cell_type": "code",
   "execution_count": null,
   "metadata": {},
   "outputs": [],
   "source": [
    "# Importando uma tabela\n",
    "import csv\n",
    "\n",
    "cadastro = open('cadastro.csv')\n",
    "cadastro_csv = csv.reader(cadastro, delimiter=\",\")\n",
    "\n",
    "aluno = []\n",
    "aluno_nome = []\n",
    "aluno_sobrenome = []\n",
    "aluno_email = []\n"
   ]
  },
  {
   "cell_type": "code",
   "execution_count": null,
   "metadata": {},
   "outputs": [],
   "source": [
    "for row in cadastro_csv:\n",
    "    aluno.append(row)\n",
    "    aluno_nome.append(row[0])\n",
    "    aluno_sobrenome.append(row[1])\n",
    "    aluno_email.append(row[2])\n",
    "cadastro.close()"
   ]
  },
  {
   "cell_type": "code",
   "execution_count": null,
   "metadata": {},
   "outputs": [],
   "source": [
    "#imprimindo as listas\n",
    "for i in range(len(aluno)):\n",
    "    print('Nome:', aluno[i][0], aluno[i][1], '- Email:', aluno[i][2])"
   ]
  },
  {
   "cell_type": "code",
   "execution_count": null,
   "metadata": {},
   "outputs": [],
   "source": [
    "for i in range(len(aluno)):\n",
    "    print('Nome:', aluno_nome[i], aluno_sobrenome[i], '- Email:', aluno_email[i])"
   ]
  },
  {
   "cell_type": "code",
   "execution_count": null,
   "metadata": {},
   "outputs": [],
   "source": [
    "#Exportando o conteúdo da lista para um arquivo .csv\n",
    "import csv\n",
    "arquivo = open('alunos2.csv', 'a')\n",
    "arquivo_csv = csv.writer(arquivo, delimiter=',', lineterminator='\\n')\n",
    "arquivo_csv.writerow(['Nome', 'Sobrenome', 'Email'])\n",
    "for i in aluno:\n",
    "    arquivo_csv.writerow([i[0], i[1], i[2]])\n",
    "arquivo.close()"
   ]
  }
 ],
 "metadata": {
  "kernelspec": {
   "display_name": "Python 3",
   "language": "python",
   "name": "python3"
  },
  "language_info": {
   "codemirror_mode": {
    "name": "ipython",
    "version": 3
   },
   "file_extension": ".py",
   "mimetype": "text/x-python",
   "name": "python",
   "nbconvert_exporter": "python",
   "pygments_lexer": "ipython3",
   "version": "3.5.0"
  }
 },
 "nbformat": 4,
 "nbformat_minor": 2
}
