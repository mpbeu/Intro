{
 "cells": [
  {
   "cell_type": "markdown",
   "metadata": {},
   "source": [
    "# Estruturas de controle"
   ]
  },
  {
   "cell_type": "markdown",
   "metadata": {},
   "source": [
    "### Sumário\n",
    "\n",
    "#### Estruturas condicionais \n",
    "- Simples\n",
    "- Composta\n",
    "- Aninhada\n",
    "\n",
    "#### Estruturas de repetição \n",
    "- Laço ***while***\n",
    "- Laço ***while True***\n",
    "- Laço ***for***"
   ]
  },
  {
   "cell_type": "markdown",
   "metadata": {},
   "source": [
    "# 1. Estruturas condicionais"
   ]
  },
  {
   "cell_type": "markdown",
   "metadata": {},
   "source": [
    "## 1.1 Estrutura condicional simples\n",
    "``` \n",
    "if <condição>:\n",
    "    <bloco de código indentado>\n",
    "<bloco de código não indentado>\n",
    "```"
   ]
  },
  {
   "cell_type": "code",
   "execution_count": null,
   "metadata": {},
   "outputs": [],
   "source": [
    "A = int(input('Digite um inteiro: '))\n",
    "B = int(input('Digite outro inteiro: '))\n",
    "C = int(input('Digite mais um outro inteiro: '))\n",
    "if A + B < C:\n",
    "    print(\"A + B e menor que C.\")\n",
    "print(\"Fim do programa\")"
   ]
  },
  {
   "cell_type": "markdown",
   "metadata": {},
   "source": [
    "## 1.2 Estrutura condicional composta\n",
    "``` \n",
    "if <condição>:\n",
    "    <bloco de código indentado 1>\n",
    "else:\n",
    "    <bloco de código indentado 2>\n",
    "<bloco de código não indentado>\n",
    "```"
   ]
  },
  {
   "cell_type": "code",
   "execution_count": null,
   "metadata": {},
   "outputs": [],
   "source": [
    "A = eval(input(\"Digite A: \"))\n",
    "B = eval(input(\"Digite B: \"))\n",
    "if  B == 0:\n",
    "    print(\"Não é possivel fazer a divisão.\")\n",
    "else:\n",
    "    C = A/B\n",
    "    print(\"A/B = %.2f\" % C)\n",
    "print(\"Fim.\")"
   ]
  },
  {
   "cell_type": "markdown",
   "metadata": {},
   "source": [
    "## 1.3 Estrutura condicional composta aninhada"
   ]
  },
  {
   "cell_type": "code",
   "execution_count": null,
   "metadata": {},
   "outputs": [],
   "source": [
    "# Menor dentre três valores\n",
    "A = eval(input(\"Digite A: \"))\n",
    "B = eval(input(\"Digite B: \"))\n",
    "C = eval(input(\"Digite C: \"))\n",
    "if A < B and A < C:\n",
    "    MENOR = A      \n",
    "else:              \n",
    "    if B < C:      \n",
    "        MENOR = B  \n",
    "    else:\n",
    "        MENOR = C  \n",
    "print(MENOR)"
   ]
  },
  {
   "cell_type": "markdown",
   "metadata": {},
   "source": [
    "### Comando ```elif```"
   ]
  },
  {
   "cell_type": "code",
   "execution_count": null,
   "metadata": {},
   "outputs": [],
   "source": [
    "# Menor dentre três valores - opção 2\n",
    "print('Este programa ordena valores inteiros ' \n",
    "       'e determina o menor deles.')\n",
    "A = int(input('Digite o primeiro número: '))\n",
    "B = int(input('Digite o segundo número: '))\n",
    "C = int(input('Digite o terceiro número: '))\n",
    "if A < B and A < C:\n",
    "    MENOR = A\n",
    "elif B < C:\n",
    "    MENOR = B\n",
    "else:\n",
    "    MENOR = C\n",
    "print('O menor valor informado é', MENOR)"
   ]
  },
  {
   "cell_type": "markdown",
   "metadata": {},
   "source": [
    "###### Exemplo"
   ]
  },
  {
   "cell_type": "code",
   "execution_count": null,
   "metadata": {},
   "outputs": [],
   "source": [
    "# Ordenar três valores\n",
    "print('Este programa põe três valores em ordem crescente.')\n",
    "L = float(input('Digite o primeiro número: '))\n",
    "M = float(input('Digite o segundo número: '))\n",
    "N = float(input('Digite o terceiro número: '))\n",
    "if L > M or L > N:\n",
    "    if M < N:\n",
    "        AUXILIAR = L\n",
    "        L = M\n",
    "        M = AUXILIAR\n",
    "    else:\n",
    "        AUXILIAR = L\n",
    "        L = N\n",
    "        N = AUXILIAR\n",
    "if M > N:\n",
    "    AUXILIAR = M\n",
    "    M = N\n",
    "    N = AUXILIAR\n",
    "print('L = %.2f \\nM = %.2f \\nN = %.2f' %(L, M, N))\n"
   ]
  },
  {
   "cell_type": "code",
   "execution_count": null,
   "metadata": {},
   "outputs": [],
   "source": [
    "# Ordenar três valores\n",
    "print('Este programa põe três valores em ordem crescente.')\n",
    "L = float(input('Digite o primeiro número: '))\n",
    "M = float(input('Digite o segundo número: '))\n",
    "N = float(input('Digite o terceiro número: '))\n",
    "if L > M or L > N:\n",
    "    if M < N:\n",
    "        AUXILIAR = L\n",
    "        L = M\n",
    "        M = AUXILIAR\n",
    "    else:\n",
    "        AUXILIAR = L\n",
    "        L = N\n",
    "        N = AUXILIAR\n",
    "if M > N:\n",
    "    AUXILIAR = M\n",
    "    M = N\n",
    "    N = AUXILIAR\n",
    "print('L = %.2f \\nM = %.2f \\nN = %.2f' %(L, M, N))"
   ]
  },
  {
   "cell_type": "markdown",
   "metadata": {},
   "source": [
    "# 2. Estruturas de Repetição\n"
   ]
  },
  {
   "cell_type": "markdown",
   "metadata": {},
   "source": [
    "São estruturas de controle que permitem a execução repetitiva de uma instrução ou um bloco de instruções."
   ]
  },
  {
   "cell_type": "markdown",
   "metadata": {},
   "source": [
    "## 2.1 Laço ``while``\n",
    "\n",
    "Enquanto a condição for verdadeira, repete o bloco indentado.\n",
    "\n",
    "``` \n",
    "while <condição>:\n",
    "    <bloco de código indentado>\n",
    "<bloco de código não indentado>\n",
    "```"
   ]
  },
  {
   "cell_type": "code",
   "execution_count": null,
   "metadata": {},
   "outputs": [],
   "source": [
    "# Exemplo 1 - Enquanto\n",
    "r = int(input(\"Digite um inteiro maior que 1 e menor do que 10.\\n> \"))\n",
    "while r < 1000:\n",
    "    print(r)\n",
    "    r = r**2\n",
    "print(\"Limite atingido.\")"
   ]
  },
  {
   "cell_type": "code",
   "execution_count": null,
   "metadata": {},
   "outputs": [],
   "source": [
    "# liste inteiros positivos até que o produto deles >= 100\n",
    "n = 1\n",
    "x = 1\n",
    "print(x)\n",
    "while n < 100:\n",
    "    x = x + 1\n",
    "    n = n * x\n",
    "    print(x)\n",
    "print(\"Produto =\", n)"
   ]
  },
  {
   "cell_type": "code",
   "execution_count": null,
   "metadata": {},
   "outputs": [],
   "source": [
    "#Soma de três valores informados pelo usuário \n",
    "n = 1\n",
    "soma = 0\n",
    "while n <= 3:\n",
    "    x = int(input(\"Digite o %d numero: \"%n))\n",
    "    soma = soma + x\n",
    "    n = n + 1\n",
    "print(\"Soma: %d\" % soma)"
   ]
  },
  {
   "cell_type": "code",
   "execution_count": null,
   "metadata": {},
   "outputs": [],
   "source": [
    "#Soma dos números pares desde 100 até 200, inclusive\n",
    "SOMA = 0\n",
    "PAR = 100\n",
    "while PAR <= 200: \n",
    "    SOMA = SOMA + PAR\n",
    "    PAR = PAR + 2\n",
    "print(SOMA)"
   ]
  },
  {
   "cell_type": "code",
   "execution_count": null,
   "metadata": {},
   "outputs": [],
   "source": [
    "#Fatorial com laço tipo 'enquanto'\n",
    "N = int(input('Informe o valor para N: '))\n",
    "FAT = 1\n",
    "CONT = 1\n",
    "while CONT <= N:\n",
    "    FAT = FAT * CONT\n",
    "    CONT = CONT + 1\n",
    "print('%d! = %d' %(N,FAT))"
   ]
  },
  {
   "cell_type": "markdown",
   "metadata": {},
   "source": [
    "###### Exemplos de laço ``while`` sobre **listas**"
   ]
  },
  {
   "cell_type": "code",
   "execution_count": null,
   "metadata": {},
   "outputs": [],
   "source": [
    "#Preenchimento da lista com as notas digitadas: \n",
    "notas = []  # cria lista vazia\n",
    "x = 0\n",
    "while x < 5:\n",
    "    nota = float(input(\"Nota %d:\" %(x+1)))\n",
    "    notas.append(nota)  # adiciona a nota na posição final da lista\n",
    "    x = x + 1"
   ]
  },
  {
   "cell_type": "code",
   "execution_count": null,
   "metadata": {},
   "outputs": [],
   "source": [
    "# Imprimindo todos os elementos da lista\n",
    "x = 0\n",
    "while x < len(notas):   # a função len() retorna o número de entradas da lista \n",
    "    print(notas[x])\n",
    "    x = x + 1"
   ]
  },
  {
   "cell_type": "code",
   "execution_count": null,
   "metadata": {},
   "outputs": [],
   "source": [
    "# Cálculo da média com notas digitadas\n",
    "\n",
    "\n",
    "# Cálculo da média:\n",
    "x = 0\n",
    "soma = 0\n",
    "while x < 5:\n",
    "    soma = soma + notas[x]\n",
    "    print(\"Nota %d: %6.2f\" % (x+1, notas[x]))\n",
    "    x = x + 1\n",
    "    media = soma / x\n",
    "print(\"Média: %5.2f\" % media) \n",
    "\n",
    "\n"
   ]
  },
  {
   "cell_type": "code",
   "execution_count": null,
   "metadata": {},
   "outputs": [],
   "source": [
    "# Cálculo da média\n",
    "soma = 0\n",
    "x = 0\n",
    "while x < 5:\n",
    "    soma = soma + notas[x]\n",
    "    x = x + 1\n",
    "print(\"Média: %5.2f\" %(soma/x))"
   ]
  },
  {
   "cell_type": "markdown",
   "metadata": {},
   "source": [
    "## 2.2 Laço ``while True``\n",
    "\n",
    "Repete os comandos indentados até que certa condição resulte verdadeira (ativação de um ***gatilho de saída***).\n",
    "\n",
    "``` \n",
    "while True:\n",
    "    <bloco de código indentado>\n",
    "     if <condição>: Break\n",
    "<bloco de código não indentado>\n",
    "```"
   ]
  },
  {
   "cell_type": "code",
   "execution_count": null,
   "metadata": {},
   "outputs": [],
   "source": [
    "while True:\n",
    "    name = input('Qual é o seu nome? \\n> ')\n",
    "    if name == '': \n",
    "        break\n",
    "    print('Olá %s' %(name))"
   ]
  },
  {
   "cell_type": "code",
   "execution_count": null,
   "metadata": {},
   "outputs": [],
   "source": [
    "#Soma dos números pares, com limites inferior e superior definido pelo usuário.\n",
    "\n",
    "#Parte 1: Definição e validação dos limites  \n",
    "while True:           #Usado para certificar que os valores são ok\n",
    "    PAR = eval(input ('defina limite inferior: '))\n",
    "    SUP = eval(input ('defina limite superior: '))\n",
    "    if PAR <= SUP and PAR % 2 == 0:\n",
    "        break\n",
    "    print('digite novamente')\n",
    "\n",
    "#Parte 2: Soma dos número pares\n",
    "SOMA = 0\n",
    "while True:           #Cálculo\n",
    "    SOMA = SOMA + PAR\n",
    "    PAR = PAR + 2\n",
    "    if PAR > SUP:\n",
    "        break\n",
    "print(SOMA)"
   ]
  },
  {
   "cell_type": "code",
   "execution_count": null,
   "metadata": {},
   "outputs": [],
   "source": [
    "#Fatorial com laço tipo 'repita.. até'\n",
    "\n",
    "#Parte 1: Definição e validação do valor\n",
    "while True:\n",
    "    N = eval(input('Informe o valor para o cálculo: '))\n",
    "    if type(N) == int:\n",
    "        break\n",
    "    print('ERRO! Você digitou um valor não inteiro.')\n",
    "\n",
    "#Parte 2: Cálculo do fatorial\n",
    "FAT = 1\n",
    "CONT = 1\n",
    "while True:\n",
    "    FAT = FAT * CONT\n",
    "    CONT = CONT + 1\n",
    "    if CONT > N:\n",
    "        break\n",
    "print('%d! = ' %(N),FAT)"
   ]
  },
  {
   "cell_type": "markdown",
   "metadata": {},
   "source": [
    "## 2.3 Laço ``for``\n",
    "\n",
    "Executa um bloco de código para cada item numa sequência.\n",
    "\n",
    "``` \n",
    "for <variável> in <sequência>:\n",
    "    <bloco de código indentado>\n",
    "<bloco de código não indentado>\n",
    "```\n",
    "\n",
    "A <sequência> pode ser um objeto do tipo *Lista*, cujos de itens são percorridos durante o laço. Pode ser também uma *string*, que nada mais é do que uma sequências de caracteres."
   ]
  },
  {
   "cell_type": "code",
   "execution_count": null,
   "metadata": {},
   "outputs": [],
   "source": [
    "# Fibonacci 2\n",
    "limite = eval(input('Gerar sequência com valores abaixo de: '))\n",
    "x, y = 1, 1\n",
    "if x < limite: print(x)\n",
    "if y < limite: print(y)\n",
    "while True:\n",
    "    x, y = y, x + y\n",
    "    print(y)\n",
    "    if x + y >= limite: \n",
    "        break"
   ]
  },
  {
   "cell_type": "markdown",
   "metadata": {},
   "source": [
    "### 2.3.1 Laço de Iteração\n",
    "\n",
    "Percorre todos os itens numa sequência explícita de valores e realiza alguma ação sobre cada valor."
   ]
  },
  {
   "cell_type": "code",
   "execution_count": null,
   "metadata": {},
   "outputs": [],
   "source": [
    "#imprimir os itens de uma lista\n",
    "lst = ['stop', 'desktop', 'post', 'top']\n",
    "\n",
    "for word in lst: \n",
    "    print(word)"
   ]
  },
  {
   "cell_type": "code",
   "execution_count": null,
   "metadata": {},
   "outputs": [],
   "source": [
    "#código mais curto do que usando o laço while\n",
    "i = 0\n",
    "while i < len(lst):\n",
    "    x = lst[i]\n",
    "    print(x)\n",
    "    i = i + 1"
   ]
  },
  {
   "cell_type": "code",
   "execution_count": null,
   "metadata": {},
   "outputs": [],
   "source": [
    "#imprimir apenas as palavras que contém \"top\"\n",
    "for word in lst:\n",
    "    if 'top' in word:\n",
    "        print(word)"
   ]
  },
  {
   "cell_type": "code",
   "execution_count": null,
   "metadata": {},
   "outputs": [],
   "source": [
    "name = 'Apple'\n",
    "for i in name:\n",
    "    print(i)"
   ]
  },
  {
   "cell_type": "code",
   "execution_count": null,
   "metadata": {},
   "outputs": [],
   "source": [
    "# Verificação do maior valor numa Lista\n",
    "L = [4, 5, 10, 7,9]\n",
    "maximo = L[0]\n",
    "for x in L:\n",
    "    if x > maximo:\n",
    "        maximo = x\n",
    "print('Valor máximo = ', maximo)"
   ]
  },
  {
   "cell_type": "markdown",
   "metadata": {},
   "source": [
    "**Atenção!**  O laço ``for`` percorrerá toda a sequência, a menos que se defina um gatilho para saída."
   ]
  },
  {
   "cell_type": "code",
   "execution_count": null,
   "metadata": {},
   "outputs": [],
   "source": [
    "# Pesquisa usando \"for\"\n",
    "L = [7,9,15,27,30,49]\n",
    "\n",
    "numero = int(input(\"Digite um número a pesquisar: \"))\n",
    "for x in L:\n",
    "    if x == numero:\n",
    "        print(\"Elemento encontrado na posição %d.\" %(1+L.index(x)))\n",
    "        break\n",
    "else:\n",
    "    print(\"Elemento não encontrado.\")"
   ]
  },
  {
   "cell_type": "markdown",
   "metadata": {},
   "source": [
    "### Função ``range()``\n",
    "Usada para percorrer uma sequência de números num dado intervalo.\n",
    "\n",
    "``range(stop)``     ``range(start, stop)``     ``range(start, stop, step)``"
   ]
  },
  {
   "cell_type": "code",
   "execution_count": null,
   "metadata": {},
   "outputs": [],
   "source": [
    "# Percorrer n números 0, 1, 2, …, n-1\n",
    "for i in range(10):\n",
    "    print(i, end=' ')"
   ]
  },
  {
   "cell_type": "code",
   "execution_count": null,
   "metadata": {},
   "outputs": [],
   "source": [
    "# Percorrer n números i, i+1, i+2, …, n-1\n",
    "for i in range(1,11):\n",
    "    print(i, end=' ')"
   ]
  },
  {
   "cell_type": "code",
   "execution_count": null,
   "metadata": {},
   "outputs": [],
   "source": [
    "# Percorrer a sequência  i, i+c, i+2c,…, n-1\n",
    "for i in range(0,11,2):\n",
    "    print(i, end=' ')\n"
   ]
  },
  {
   "cell_type": "markdown",
   "metadata": {},
   "source": [
    "Transformação do resultado de range em uma lista"
   ]
  },
  {
   "cell_type": "code",
   "execution_count": null,
   "metadata": {},
   "outputs": [],
   "source": [
    "L = list(range(0,11,2))\n",
    "print(L)\n",
    "for i in L: \n",
    "    print(i)"
   ]
  },
  {
   "cell_type": "markdown",
   "metadata": {},
   "source": [
    "### 2.3.2 Laço de Acumulação\n",
    "\n",
    "Acumula algo a cada iteração.\n"
   ]
  },
  {
   "cell_type": "code",
   "execution_count": null,
   "metadata": {},
   "outputs": [],
   "source": [
    "# Soma de números numa lista\n",
    "res = 0\n",
    "for i in range(0,11,2):\n",
    "    res += i  # res = res + i\n",
    "    print(res)"
   ]
  },
  {
   "cell_type": "code",
   "execution_count": null,
   "metadata": {},
   "outputs": [],
   "source": [
    "# Fatorial\n",
    "N = eval(input('Informe o valor para N: '))\n",
    "res = 1               \n",
    "for i in range(2, N+1):\n",
    "    res *= i     # res = res * i\n",
    "print(res)"
   ]
  },
  {
   "cell_type": "code",
   "execution_count": null,
   "metadata": {},
   "outputs": [],
   "source": [
    "# Impressão dos elementos da lista e suas posições (índices)\n",
    "L = [5,9,13,35]\n",
    "i = 0\n",
    "for x in L:\n",
    "    print(\"indice %d -> %d\" % (i,x))\n",
    "    i += 1"
   ]
  }
 ],
 "metadata": {
  "kernelspec": {
   "display_name": "Python 3",
   "language": "python",
   "name": "python3"
  },
  "language_info": {
   "codemirror_mode": {
    "name": "ipython",
    "version": 3
   },
   "file_extension": ".py",
   "mimetype": "text/x-python",
   "name": "python",
   "nbconvert_exporter": "python",
   "pygments_lexer": "ipython3",
   "version": "3.7.7"
  }
 },
 "nbformat": 4,
 "nbformat_minor": 2
}
