{
 "cells": [
  {
   "cell_type": "markdown",
   "metadata": {},
   "source": [
    "# DataFrame"
   ]
  },
  {
   "cell_type": "markdown",
   "metadata": {},
   "source": [
    "**Arquivo utilizado**:  *exemplo_alunos_final.xlsx*\n",
    "\n",
    "**Fonte de consulta: https://pandas.pydata.org/pandas-docs/stable/index.html**\n"
   ]
  },
  {
   "cell_type": "markdown",
   "metadata": {},
   "source": [
    "## Agrupando dados"
   ]
  },
  {
   "cell_type": "code",
   "execution_count": null,
   "metadata": {},
   "outputs": [],
   "source": [
    "import pandas as pd\n",
    "import numpy as np\n",
    "df = pd.read_excel('exemplo_alunos_final.xlsx')"
   ]
  },
  {
   "cell_type": "code",
   "execution_count": null,
   "metadata": {},
   "outputs": [],
   "source": [
    "df.head()"
   ]
  },
  {
   "cell_type": "code",
   "execution_count": null,
   "metadata": {},
   "outputs": [],
   "source": [
    "df.groupby('Curso').count()"
   ]
  },
  {
   "cell_type": "code",
   "execution_count": null,
   "metadata": {},
   "outputs": [],
   "source": [
    "df.groupby(['Curso','Resultado']).count()"
   ]
  },
  {
   "cell_type": "code",
   "execution_count": null,
   "metadata": {},
   "outputs": [],
   "source": [
    "colunas = ['Faltas', 'Media']\n",
    "df.groupby('Curso')[colunas].mean()"
   ]
  },
  {
   "cell_type": "code",
   "execution_count": null,
   "metadata": {},
   "outputs": [],
   "source": [
    "df.groupby(['Curso','Ingresso'])['Media'].mean()"
   ]
  },
  {
   "cell_type": "code",
   "execution_count": null,
   "metadata": {},
   "outputs": [],
   "source": [
    "grouped = df.groupby(['Curso','Ingresso'])\n",
    "grouped"
   ]
  },
  {
   "cell_type": "code",
   "execution_count": null,
   "metadata": {},
   "outputs": [],
   "source": [
    "grouped['Media'].mean()"
   ]
  },
  {
   "cell_type": "markdown",
   "metadata": {},
   "source": [
    "### Selecionando um grupo"
   ]
  },
  {
   "cell_type": "code",
   "execution_count": null,
   "metadata": {},
   "outputs": [],
   "source": [
    "grouped2 = df.groupby(['Curso','Resultado'])\n",
    "grouped2"
   ]
  },
  {
   "cell_type": "code",
   "execution_count": null,
   "metadata": {},
   "outputs": [],
   "source": [
    "grouped2.get_group(('Atuária','Aprovado'))\n",
    "\n",
    "# #Alternativamente (usando comandos de seleção)\n",
    "# df.loc[(df.Curso=='Atuária') & (df.Resultado=='Aprovado')].describe()"
   ]
  },
  {
   "cell_type": "code",
   "execution_count": null,
   "metadata": {},
   "outputs": [],
   "source": [
    "df.groupby(['Curso','Resultado']).get_group(('Secretariado','Recuperação'))"
   ]
  },
  {
   "cell_type": "markdown",
   "metadata": {},
   "source": [
    "### Funções agregadoras"
   ]
  },
  {
   "cell_type": "markdown",
   "metadata": {},
   "source": [
    "Depois que o objeto GroupBy tiver sido criado, podemos executar computação nos dados agrupados a partir de **funções de agregação**. As funções de agregação são aquelas que reduzem a dimensão dos objetos retornados. Algumas funções de agregação comuns estão tabuladas abaixo:"
   ]
  },
  {
   "cell_type": "markdown",
   "metadata": {},
   "source": [
    "|Função| Descrição|\n",
    "|---|---|\n",
    "|mean() | Média dos grupos|\n",
    "|sum() | Soma dos valores do grupo|\n",
    "|size() | Tamanho dos grupos|\n",
    "|count() | Total de observações do grupo|\n",
    "|std() | Desvio padrão dos grupos|\n",
    "|var() | Variância dos grupos|\n",
    "|sem() | Erro padrão da média dos grupos|\n",
    "|describe() | Estatísticas descritivas dos grupos|\n",
    "|first() | Retorna os primeiros valores dos grupos|\n",
    "|last() | Retorna os últimos dos valores dos grupos|\n",
    "|nth() | Retorna o n-ésimo valor (ou n-ésimos, se for uma lista)|\n",
    "|min() | Retorna o menor dos valores do grupo|\n",
    "|max() | Calcular o máximo dos valores do grupo|\n",
    "\n",
    "\n",
    "*As funções de agregação acima excluirão os valores de NA"
   ]
  },
  {
   "cell_type": "code",
   "execution_count": null,
   "metadata": {},
   "outputs": [],
   "source": [
    "grouped2.aggregate('mean')\n",
    "\n",
    "# #Alternativamente\n",
    "# grouped2.mean()"
   ]
  },
  {
   "cell_type": "code",
   "execution_count": null,
   "metadata": {},
   "outputs": [],
   "source": [
    "grouped2 = df.groupby(['Curso','Resultado'], as_index=False)\n",
    "grouped2.aggregate('mean')\n",
    "\n",
    "# #Alternativamente\n",
    "# df.groupby(['Curso','Resultado']).mean().reset_index()"
   ]
  },
  {
   "cell_type": "code",
   "execution_count": null,
   "metadata": {},
   "outputs": [],
   "source": [
    "grouped2.size()"
   ]
  },
  {
   "cell_type": "code",
   "execution_count": null,
   "metadata": {},
   "outputs": [],
   "source": [
    "grouped2.count()"
   ]
  },
  {
   "cell_type": "code",
   "execution_count": null,
   "metadata": {},
   "outputs": [],
   "source": [
    "grouped2 = df.groupby(['Curso','Resultado'])\n",
    "grouped2['Media'].describe()"
   ]
  },
  {
   "cell_type": "markdown",
   "metadata": {},
   "source": [
    "#### Aplicando múltiplas funções de uma só vez"
   ]
  },
  {
   "cell_type": "code",
   "execution_count": null,
   "metadata": {},
   "outputs": [],
   "source": [
    "grouped2['Media'].aggregate(['count', 'mean'])"
   ]
  },
  {
   "cell_type": "code",
   "execution_count": null,
   "metadata": {},
   "outputs": [],
   "source": [
    "stats = ['sum', 'mean', 'std']\n",
    "nomes = {'sum': 'soma','mean': 'média','std': 'desvio padrão'}\n",
    "\n",
    "grouped2['Media'].aggregate(stats).rename(columns=nomes)"
   ]
  },
  {
   "cell_type": "code",
   "execution_count": null,
   "metadata": {},
   "outputs": [],
   "source": [
    "grouped2['Media', 'Faltas'].aggregate(stats).rename(columns=nomes)"
   ]
  },
  {
   "cell_type": "markdown",
   "metadata": {},
   "source": [
    "Podemos aplicar diferentes funções de agregação para diferentes colunas."
   ]
  },
  {
   "cell_type": "code",
   "execution_count": null,
   "metadata": {},
   "outputs": [],
   "source": [
    "grouped2.aggregate({'Matricula':'count', 'Media':'mean'}).rename(columns={'Matricula':'Alunos'})"
   ]
  },
  {
   "cell_type": "markdown",
   "metadata": {},
   "source": [
    "## Remodelando a Tabela de Dados \n",
    "### \\[Cruzando variáveis em linhas e colunas\\]"
   ]
  },
  {
   "cell_type": "markdown",
   "metadata": {},
   "source": [
    "Os dados são frequentemente armazenados no chamado formato “empilhado”:"
   ]
  },
  {
   "cell_type": "code",
   "execution_count": null,
   "metadata": {},
   "outputs": [],
   "source": [
    "tabela = df.groupby(['Curso','Resultado'], as_index=False).agg({'Faltas':'mean','Media':'mean'})\n",
    "tabela = tabela[tabela.Resultado.isin(['Aprovado','Recuperação'])]\n",
    "tabela"
   ]
  },
  {
   "cell_type": "markdown",
   "metadata": {},
   "source": [
    "Suponha que desejamos reorganizar esta tabela, de modo a apresentar as *categorias de* **Resultados** nas colunas. Neste caso, usamos o método DataFrame.pivot():"
   ]
  },
  {
   "cell_type": "code",
   "execution_count": null,
   "metadata": {},
   "outputs": [],
   "source": [
    "tabela.pivot(index='Curso',columns='Resultado')"
   ]
  },
  {
   "cell_type": "code",
   "execution_count": null,
   "metadata": {},
   "outputs": [],
   "source": [
    "tabela.pivot(index='Curso',columns='Resultado',values='Media') \n",
    "\n",
    "# #Alternativamente\n",
    "# tabela.pivot(index='Curso',columns='Resultado')['Media']"
   ]
  },
  {
   "cell_type": "code",
   "execution_count": null,
   "metadata": {},
   "outputs": [],
   "source": [
    "tabela2 = df.groupby(['Curso','Ingresso','Resultado'], as_index=False).agg({'Faltas':'mean','Media':'mean'})\n",
    "tabela2 = tabela2[tabela2.Resultado.isin(['Aprovado','Recuperação'])]\n",
    "tabela2"
   ]
  },
  {
   "cell_type": "code",
   "execution_count": null,
   "metadata": {},
   "outputs": [],
   "source": [
    "try: tabela2.pivot(index='Curso',columns='Resultado')['Media']\n",
    "except ValueError: print('ValueError: Index contains duplicate entries, cannot reshape.')    "
   ]
  },
  {
   "cell_type": "code",
   "execution_count": null,
   "metadata": {},
   "outputs": [],
   "source": [
    "tabela2.pivot_table(index=['Curso'],columns='Resultado',aggfunc=np.mean)['Media']\n",
    "\n",
    "# #Alternativamente\n",
    "# tabela2_ = tabela2.groupby(['Curso','Resultado'], as_index=False).agg({'Faltas':'mean','Media':'mean'})\n",
    "# tabela2_.pivot(index='Curso',columns='Resultado')['Media']"
   ]
  },
  {
   "cell_type": "code",
   "execution_count": null,
   "metadata": {},
   "outputs": [],
   "source": [
    "tabela2.pivot_table(index=['Curso','Ingresso'],columns='Resultado')['Media']"
   ]
  },
  {
   "cell_type": "code",
   "execution_count": null,
   "metadata": {},
   "outputs": [],
   "source": [
    "tabela2.pivot_table(index='Curso',columns=['Ingresso','Resultado'], values='Media')"
   ]
  },
  {
   "cell_type": "code",
   "execution_count": null,
   "metadata": {},
   "outputs": [],
   "source": [
    "tabela3 = tabela2.pivot_table(index=['Curso','Ingresso'],columns='Resultado')\n",
    "tabela3"
   ]
  },
  {
   "cell_type": "markdown",
   "metadata": {},
   "source": [
    "**Selecionando dados**"
   ]
  },
  {
   "cell_type": "code",
   "execution_count": null,
   "metadata": {},
   "outputs": [],
   "source": [
    "tabela3.Media"
   ]
  },
  {
   "cell_type": "code",
   "execution_count": null,
   "metadata": {},
   "outputs": [],
   "source": [
    "tabela3.Media.Recuperação"
   ]
  },
  {
   "cell_type": "code",
   "execution_count": null,
   "metadata": {},
   "outputs": [],
   "source": [
    "tabela3.Media.Recuperação['Administração']"
   ]
  },
  {
   "cell_type": "code",
   "execution_count": null,
   "metadata": {},
   "outputs": [],
   "source": [
    "tabela3.Media.Recuperação['Administração'][2017]"
   ]
  },
  {
   "cell_type": "markdown",
   "metadata": {},
   "source": [
    "**Criando novas colunas**"
   ]
  },
  {
   "cell_type": "code",
   "execution_count": null,
   "metadata": {},
   "outputs": [],
   "source": [
    "tabela4 = tabela3.copy()\n",
    "tabela4['Diferença'] = tabela4.Media.Aprovado - tabela4.Media.Recuperação\n",
    "tabela4"
   ]
  },
  {
   "cell_type": "code",
   "execution_count": null,
   "metadata": {},
   "outputs": [],
   "source": [
    "tabela4.loc['Administração', 2017].Media.Aprovado\n",
    "\n",
    "# #Alternativamente:\n",
    "# tabela5.loc['Administração', 2017]['Media']['Aprovado']\n",
    "# #ou ainda:\n",
    "# tabela5.loc['Administração', 2017].Media['Aprovado']"
   ]
  },
  {
   "cell_type": "markdown",
   "metadata": {},
   "source": [
    "**Empilhando os dados:**"
   ]
  },
  {
   "cell_type": "code",
   "execution_count": null,
   "metadata": {},
   "outputs": [],
   "source": [
    "tabela5 = tabela4.stack()\n",
    "tabela5"
   ]
  },
  {
   "cell_type": "code",
   "execution_count": null,
   "metadata": {},
   "outputs": [],
   "source": [
    "tabela5.loc['Administração', 2017, 'Aprovado']['Media']"
   ]
  },
  {
   "cell_type": "code",
   "execution_count": null,
   "metadata": {},
   "outputs": [],
   "source": [
    "tabela5.reset_index(inplace=True)\n",
    "tabela5"
   ]
  },
  {
   "cell_type": "code",
   "execution_count": null,
   "metadata": {},
   "outputs": [],
   "source": [
    "tabela5.loc[(tabela5.Curso=='Administração') & (tabela5.Ingresso==2017) & (tabela5.Resultado=='Aprovado'), 'Media']"
   ]
  },
  {
   "cell_type": "code",
   "execution_count": null,
   "metadata": {},
   "outputs": [],
   "source": [
    "df.head()"
   ]
  },
  {
   "cell_type": "markdown",
   "metadata": {},
   "source": [
    "### Exemplo:\n",
    "### Programa que retorna uma tabela de pivot contendo uma estatística para uma variável numérica"
   ]
  },
  {
   "cell_type": "code",
   "execution_count": null,
   "metadata": {},
   "outputs": [],
   "source": [
    "print('IMPRESSÃO DE TABELA PIVOT.\\n')\n",
    "print('Variáveis disponíveis: ')\n",
    "for i in df.columns:\n",
    "    print(i, end=\", \")\n",
    "\n",
    "variavel_linha = input('Variável categórica (linhas): ')\n",
    "variavel_coluna = input('Variável categórica (colunas): ')\n",
    "variavel_numerica = input('Variável numérica: ')\n",
    "estat = int(input('Estatistica desejada (1 - média, 2 - Máximo, 3 - Mínimo): '))\n",
    "\n",
    "print('\\n')\n",
    "if estat==1: print(df.pivot_table(index=[variavel_linha],columns=[variavel_coluna],aggfunc=np.mean)[variavel_numerica])\n",
    "elif estat==2: print(df.pivot_table(index=[variavel_linha],columns=[variavel_coluna],aggfunc=np.max)[variavel_numerica])\n",
    "elif estat==3: print(df.pivot_table(index=[variavel_linha],columns=[variavel_coluna],aggfunc=np.min)[variavel_numerica])\n",
    "else: print('Estatistica inválida.')"
   ]
  }
 ],
 "metadata": {
  "kernelspec": {
   "display_name": "Python 3",
   "language": "python",
   "name": "python3"
  },
  "language_info": {
   "codemirror_mode": {
    "name": "ipython",
    "version": 3
   },
   "file_extension": ".py",
   "mimetype": "text/x-python",
   "name": "python",
   "nbconvert_exporter": "python",
   "pygments_lexer": "ipython3",
   "version": "3.5.0"
  }
 },
 "nbformat": 4,
 "nbformat_minor": 2
}
