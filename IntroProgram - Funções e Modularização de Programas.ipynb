{
 "cells": [
  {
   "cell_type": "markdown",
   "metadata": {},
   "source": [
    "# Funções e Modularização de Programas"
   ]
  },
  {
   "cell_type": "markdown",
   "metadata": {},
   "source": [
    "## Funções"
   ]
  },
  {
   "cell_type": "markdown",
   "metadata": {},
   "source": [
    "Já vimos algumas funções embutidas no Python. Por exemplo: ``abs()``, ``max()``, ``len()``, ``sum()``, ``print()``."
   ]
  },
  {
   "cell_type": "code",
   "execution_count": null,
   "metadata": {},
   "outputs": [],
   "source": [
    "L = [-1, 2, 10]\n",
    "\n",
    "x = abs(L[0])\n",
    "y = max(L)\n",
    "z = len(L)\n",
    "w = sum(L)\n",
    "\n",
    "print(x, y, z, w)"
   ]
  },
  {
   "cell_type": "markdown",
   "metadata": {},
   "source": [
    "Para definir uma nova função, utilizamos a seguinte estrutura:\n",
    "```\n",
    "def <nome da função> (<parâmetros>):\n",
    "    <comandos da função>\n",
    "```\n",
    "\n",
    "O comando ``def`` prepara o interpretador do Python para executar uma função quando esta for chamada em outras partes do programa. "
   ]
  },
  {
   "cell_type": "code",
   "execution_count": null,
   "metadata": {},
   "outputs": [],
   "source": [
    "# Definicao de uma função que soma dois números\n",
    "def soma(a,b):\n",
    "    print(a+b)"
   ]
  },
  {
   "cell_type": "markdown",
   "metadata": {},
   "source": [
    "Para chamar uma função definida no programa, digita-se o nome da função seguido dos parâmetros entre parênteses."
   ]
  },
  {
   "cell_type": "code",
   "execution_count": null,
   "metadata": {},
   "outputs": [],
   "source": [
    "soma(2,3)"
   ]
  },
  {
   "cell_type": "markdown",
   "metadata": {},
   "source": [
    "### Entrada de parâmetros\n",
    "\n",
    "Funções podem ou não exigir a entrada de parâmetros quando são chamadas.\n"
   ]
  },
  {
   "cell_type": "code",
   "execution_count": null,
   "metadata": {},
   "outputs": [],
   "source": [
    "# Funcao para imprimir uma barra na tela\n",
    "def imprimir_traços():          # Esta função não recebe qualquer parâmetro\n",
    "    print(\"-\" * 50)\n",
    "\n",
    "imprimir_traços()"
   ]
  },
  {
   "cell_type": "markdown",
   "metadata": {},
   "source": [
    "Podemos definir funções com entrada *opcional* de parâmetros. Neste caso, são informados um valor padrão para o caso de um parâmetro não informado."
   ]
  },
  {
   "cell_type": "code",
   "execution_count": null,
   "metadata": {},
   "outputs": [],
   "source": [
    "# Uma função que admite parâmetros opcionais\n",
    "def imprimir_separador(caractere=\"-\", n=50):\n",
    "    print(n*caractere)\n",
    "\n",
    "imprimir_separador()    \n",
    "\n",
    "imprimir_separador('*',30)  #os valores dos parâmetros devem seguir a ordem definida na função."
   ]
  },
  {
   "cell_type": "markdown",
   "metadata": {},
   "source": [
    "Pode-se combinar parâmetros obrigatórios e opcionais, estes devendo ficar por último."
   ]
  },
  {
   "cell_type": "code",
   "execution_count": null,
   "metadata": {},
   "outputs": [],
   "source": [
    "# Função para calcular salário (mensal)\n",
    "def salario(valor_hora, regime_trabalho=40, adicional_noturno=False):  #O parâmetro \"valor_hora\" é obrigatório!\n",
    "    salario = valor_hora * regime_trabalho * 4.28                      #O mês tem 4.28 semanas\n",
    "    if adicional_noturno==True:\n",
    "        print('R$ %.2f' %(salario*1.5))\n",
    "    else:\n",
    "        print('R$ %.2f' %(salario))"
   ]
  },
  {
   "cell_type": "code",
   "execution_count": null,
   "metadata": {},
   "outputs": [],
   "source": [
    "salario(50)\n",
    "salario(50,20)\n",
    "salario(50,20,True)   #as informações devem ser inseridas na ordem definida na fução"
   ]
  },
  {
   "cell_type": "markdown",
   "metadata": {},
   "source": [
    "Se nomearmos os parâmetros ao chamar uma função, a ordem de passagem dos parâmetros deixa de ser importante!\n"
   ]
  },
  {
   "cell_type": "code",
   "execution_count": null,
   "metadata": {},
   "outputs": [],
   "source": [
    "salario(adicional_noturno=True,regime_trabalho=20, valor_hora=50)"
   ]
  },
  {
   "cell_type": "markdown",
   "metadata": {},
   "source": [
    "#### Funções com número indeterminado de parâmetros\n",
    "\n",
    "Neste caso, na definição da função colocamos um asterisco antes do nome que identifica o conjunto de parâmetro. "
   ]
  },
  {
   "cell_type": "code",
   "execution_count": null,
   "metadata": {},
   "outputs": [],
   "source": [
    "# Função soma, com número indeterminado de parametros\n",
    "def soma(*numeros):\n",
    "    s = 0\n",
    "    for x in numeros:\n",
    "        s = s + x\n",
    "    print(s)"
   ]
  },
  {
   "cell_type": "code",
   "execution_count": null,
   "metadata": {},
   "outputs": [],
   "source": [
    "soma()\n",
    "soma(2)\n",
    "soma(1,2,3,4)"
   ]
  },
  {
   "cell_type": "code",
   "execution_count": null,
   "metadata": {},
   "outputs": [],
   "source": [
    "lista = [1,2,3,4]\n",
    "soma(*lista)\n"
   ]
  },
  {
   "cell_type": "code",
   "execution_count": null,
   "metadata": {},
   "outputs": [],
   "source": [
    "# Função que mostra o maior dentre um conjunto de valores informados\n",
    "def imprime_maior(*numeros):\n",
    "    maior = None\n",
    "    for x in numeros:\n",
    "        if maior == None or maior < x:\n",
    "            maior = x\n",
    "    print(\"O maior número é\", maior)"
   ]
  },
  {
   "cell_type": "code",
   "execution_count": null,
   "metadata": {},
   "outputs": [],
   "source": [
    "imprime_maior(33,42,69,10)\n",
    "\n",
    "L = [1,2,4,5,5,3,12,7,4]\n",
    "imprime_maior(*L)\n"
   ]
  },
  {
   "cell_type": "markdown",
   "metadata": {},
   "source": [
    "### Retornando valores da função\n",
    "\n",
    "As funções acima apenas informam (imprimem na tela) resultados, mas nenhum valor é **retornado** (disponibilizado) para ser utilizado no programa."
   ]
  },
  {
   "cell_type": "code",
   "execution_count": null,
   "metadata": {},
   "outputs": [],
   "source": [
    "def soma(a,b):\n",
    "    print(a+b)\n",
    "\n",
    "x = soma(1,2)\n",
    "print(x)"
   ]
  },
  {
   "cell_type": "markdown",
   "metadata": {},
   "source": [
    "#### Instrução ``return``\n",
    "\n",
    "Para que o resultado da função possa ser utilizado em outros cálculos no programa, deve-se usar **``return()``** no bloco de comandos da função."
   ]
  },
  {
   "cell_type": "code",
   "execution_count": null,
   "metadata": {},
   "outputs": [],
   "source": [
    "# Definição de uma função com retorno de um valor\n",
    "def soma(a,b):\n",
    "    return(a+b)"
   ]
  },
  {
   "cell_type": "code",
   "execution_count": null,
   "metadata": {},
   "outputs": [],
   "source": [
    "x = soma(2,3)\n",
    "y = 10 + x\n",
    "z = 20 + soma(5,5)\n",
    "\n",
    "print(x)\n",
    "print(y)\n",
    "print(z)"
   ]
  },
  {
   "cell_type": "code",
   "execution_count": null,
   "metadata": {},
   "outputs": [],
   "source": [
    "# Testando se o número é par\n",
    "def par(x):\n",
    "    return(x%2 == 0)          #vimos que o resultado de uma expressão relacional é Verdadeiro ou Falso \n",
    "\n",
    "print(par(2))\n",
    "print(par(3))\n",
    "print(par(10))"
   ]
  },
  {
   "cell_type": "markdown",
   "metadata": {},
   "source": [
    "Obs.: Uma vez que um valor é retornado pela função, esta é imediatamente interrompida (deixa de ser processada)."
   ]
  },
  {
   "cell_type": "code",
   "execution_count": null,
   "metadata": {},
   "outputs": [],
   "source": [
    "# Pesquisa um valor em uma lista e o retorna, caso encontrado.\n",
    "def pesquisa(lista, valor):\n",
    "    for x in lista:\n",
    "        if x == valor:\n",
    "            return(x)"
   ]
  },
  {
   "cell_type": "code",
   "execution_count": null,
   "metadata": {},
   "outputs": [],
   "source": [
    "L = [10, 20, 30, 33, 60, 4, 50, 102, 12, 92, 40]\n",
    "\n",
    "print('Valor encontrado: ', pesquisa(L,20))\n",
    "print('Valor encontrado: ', pesquisa(L,25))"
   ]
  },
  {
   "cell_type": "markdown",
   "metadata": {},
   "source": [
    "### Chamando (utilizando) uma função dentro de outra"
   ]
  },
  {
   "cell_type": "code",
   "execution_count": null,
   "metadata": {},
   "outputs": [],
   "source": [
    "# Reutilizando a funcao \"par\" em outra funcao\n",
    "def par_ou_impar(x):\n",
    "    if par(x):\n",
    "        print(\"par\")\n",
    "    else:\n",
    "        print(\"impar\")"
   ]
  },
  {
   "cell_type": "code",
   "execution_count": null,
   "metadata": {},
   "outputs": [],
   "source": [
    "par_ou_impar(10)"
   ]
  },
  {
   "cell_type": "code",
   "execution_count": null,
   "metadata": {},
   "outputs": [],
   "source": [
    "# Funções como parâmetro\n",
    "def soma(a,b):\n",
    "    return a+b\n",
    "def subtracao(a,b):\n",
    "    return a-b\n",
    "def multiplicacao(a,b):\n",
    "    return a*b\n",
    "\n",
    "def imprime(a,b,operacao):\n",
    "    print(operacao(a,b))"
   ]
  },
  {
   "cell_type": "code",
   "execution_count": null,
   "metadata": {},
   "outputs": [],
   "source": [
    "imprime(5,4,soma)"
   ]
  },
  {
   "cell_type": "code",
   "execution_count": null,
   "metadata": {},
   "outputs": [],
   "source": [
    "# Função para validação na entrada de dados\n",
    "def faixa_int(pergunta, minimo, maximo):\n",
    "    while True:\n",
    "        numero = int(input(pergunta))\n",
    "        if numero < minimo or numero > maximo:\n",
    "            print(\"Valor inválido. Digite um valor entre %d e %d\" % (minimo,maximo))\n",
    "        else:\n",
    "            return numero"
   ]
  },
  {
   "cell_type": "code",
   "execution_count": null,
   "metadata": {},
   "outputs": [],
   "source": [
    "x = faixa_int('Digite um numero inteiro entre 1 e 10: ',1,10)\n",
    "\n",
    "print(x**2)"
   ]
  },
  {
   "cell_type": "code",
   "execution_count": null,
   "metadata": {},
   "outputs": [],
   "source": [
    "# Usando a função acima num programa:\n",
    "idade = faixa_int(\"Quantos anos você tem? \", 18, 80)\n",
    "if idade <= 25:\n",
    "    print('Tem tempo e saúde, mas falta dinheiro!')\n",
    "elif idade <= 60:\n",
    "    print('Tem saúde e dinheiro, mas falta tempo!')\n",
    "else:\n",
    "    print('Tem tempo e dinheiro, mas a saúde...')\n"
   ]
  },
  {
   "cell_type": "markdown",
   "metadata": {},
   "source": [
    "### Variáveis **locais** e **globais**\n",
    "\n",
    "Variáveis definidas dentro de uma função existem apenas durante a execução da função, e são chamadas de variáveis **locais**."
   ]
  },
  {
   "cell_type": "code",
   "execution_count": null,
   "metadata": {},
   "outputs": [],
   "source": [
    "def imprimir_numero():\n",
    "    v = 20                          # v é uma variável local\n",
    "    print(v)"
   ]
  },
  {
   "cell_type": "code",
   "execution_count": null,
   "metadata": {
    "scrolled": true
   },
   "outputs": [],
   "source": [
    "imprimir_numero()"
   ]
  },
  {
   "cell_type": "code",
   "execution_count": null,
   "metadata": {},
   "outputs": [],
   "source": [
    "print(v)"
   ]
  },
  {
   "cell_type": "markdown",
   "metadata": {},
   "source": [
    "Uma variável definida fora de uma função é chamada de variável **global**. Variáveis globias estão disponíveis durante toda a execução do programa."
   ]
  },
  {
   "cell_type": "code",
   "execution_count": null,
   "metadata": {},
   "outputs": [],
   "source": [
    "v = 10          # v é uma variável global\n",
    "\n",
    "imprimir_numero()     # a variável definida localmente não altera a variável global v\n",
    "\n",
    "print(v)\n",
    "\n"
   ]
  },
  {
   "cell_type": "code",
   "execution_count": null,
   "metadata": {},
   "outputs": [],
   "source": [
    "def exemplo():\n",
    "    x = 20\n",
    "    z = x + y\n",
    "    return(z)"
   ]
  },
  {
   "cell_type": "code",
   "execution_count": null,
   "metadata": {},
   "outputs": [],
   "source": [
    "x = 0\n",
    "y = 10    # x e y são variáveis globais\n",
    "\n",
    "exemplo()"
   ]
  },
  {
   "cell_type": "markdown",
   "metadata": {},
   "source": [
    "#### Instrução ``global``\n",
    "Faz com que variáveis definidas no âmbito de uma função fiquem disponíveis no programa."
   ]
  },
  {
   "cell_type": "code",
   "execution_count": null,
   "metadata": {},
   "outputs": [],
   "source": [
    "def exemplo_global():\n",
    "    global x\n",
    "    x = 20"
   ]
  },
  {
   "cell_type": "code",
   "execution_count": null,
   "metadata": {},
   "outputs": [],
   "source": [
    "x = 10\n",
    "\n",
    "print(\"valor inicial: x=\",x)\n",
    "\n",
    "imprimir_numero()\n",
    "\n",
    "print(\"valor final: x =\",x)\n"
   ]
  },
  {
   "cell_type": "markdown",
   "metadata": {},
   "source": [
    "### Funções contendo Listas como argumento"
   ]
  },
  {
   "cell_type": "code",
   "execution_count": null,
   "metadata": {},
   "outputs": [],
   "source": [
    "def modifica_lista(lst):\n",
    "    lst.append(3)     #aplica o método \"append()\", que adiciona itens ao final da lista \n",
    "    lst.reverse()     #aplica o método \"reverse()\", que inverte a ordem dos itens da lista"
   ]
  },
  {
   "cell_type": "code",
   "execution_count": null,
   "metadata": {},
   "outputs": [],
   "source": [
    "L = [1,2]\n",
    "modifica_lista(L)\n",
    "print(L)"
   ]
  },
  {
   "cell_type": "code",
   "execution_count": null,
   "metadata": {},
   "outputs": [],
   "source": [
    "def multiplo_itens(lista, multiplo):\n",
    "    for i in range(len(lista)):\n",
    "        lista[i] = multiplo * lista[i]"
   ]
  },
  {
   "cell_type": "code",
   "execution_count": null,
   "metadata": {},
   "outputs": [],
   "source": [
    "L = [2, 5, 9]\n",
    "\n",
    "print(L)\n",
    "multiplo_itens(L,2)\n",
    "print(L)\n"
   ]
  },
  {
   "cell_type": "markdown",
   "metadata": {},
   "source": [
    "As funções acima são chamadas de ***modificadoras***, pois alteram as listas passadas como argumento. "
   ]
  },
  {
   "cell_type": "markdown",
   "metadata": {},
   "source": [
    "Uma função ***pura*** não altera a lista passada como argumento da função."
   ]
  },
  {
   "cell_type": "code",
   "execution_count": null,
   "metadata": {},
   "outputs": [],
   "source": [
    "# Esta função não altera a lista\n",
    "def adlista(lst):\n",
    "    lst = lst + [3]\n",
    "    return(lst)"
   ]
  },
  {
   "cell_type": "code",
   "execution_count": null,
   "metadata": {},
   "outputs": [],
   "source": [
    "L = [1,2]\n",
    "adlista(L)\n",
    "print(L)"
   ]
  },
  {
   "cell_type": "markdown",
   "metadata": {},
   "source": [
    "Neste caso, para que as instruções contidas na função altere definitivamente a lista, deve-se atribuir à esta o valor retornado pela função."
   ]
  },
  {
   "cell_type": "code",
   "execution_count": null,
   "metadata": {},
   "outputs": [],
   "source": [
    "L = adlista(L)\n",
    "print(L)"
   ]
  },
  {
   "cell_type": "markdown",
   "metadata": {},
   "source": [
    "\n",
    "\n",
    "## Modularização de Programas"
   ]
  },
  {
   "cell_type": "markdown",
   "metadata": {},
   "source": [
    "À medida que seus programas se tornam longos, pode ser interessante dividi-los em partes menores, chamadas **módulos**. Um **módulo** é um arquivo contendo funções e comandos que podem ser usados inúmeras vezes em diversos programas. \n",
    "\n",
    "Para criar um **módulo**, basta salvar arquivo que contém o conjunto de funções/instruções com o *nome do módulo* mais o sufixo *.py*. Uma vez criado, as funções/instruções do módulo podem ser **importadas** por um programa sempre que necessário. "
   ]
  },
  {
   "cell_type": "markdown",
   "metadata": {},
   "source": [
    "### Criando um módulo"
   ]
  },
  {
   "cell_type": "markdown",
   "metadata": {},
   "source": [
    "Abra um editor do Python (ou outro editor de texto) e escreva o código abaixo. Salve o arquivo com o seguinte nome \"*calculos.py*\", no mesmo local do arquivo contendo o programa que usará este módulo (no presente caso, na mesma pasta em que está este arquivo da aula)."
   ]
  },
  {
   "cell_type": "markdown",
   "metadata": {},
   "source": [
    "#### Exemplo\n",
    "\n",
    "Copie e cole as funções abaixo em um editor de texto (bloco de notas, editor do IDLE,...) e salve com o nome *calculos.py* no mesmo local do arquivo contendo o programa que usará as funções.\n",
    "```\n",
    "# Calculadora\n",
    "\n",
    "def soma(a,b):\n",
    "    return(a+b)\n",
    "def subtracao(a,b):\n",
    "    return(a-b)\n",
    "def multiplicacao(a,b):\n",
    "    return(a*b)\n",
    "def divisao(a,b):\n",
    "    if b != 0: \n",
    "        return(a/b)\n",
    "\n",
    "```\n"
   ]
  },
  {
   "cell_type": "markdown",
   "metadata": {},
   "source": [
    "### Utilizando o módulo"
   ]
  },
  {
   "cell_type": "code",
   "execution_count": null,
   "metadata": {},
   "outputs": [],
   "source": [
    "import calculadora\n",
    "\n",
    "x = calculadora.soma(2,3)\n",
    "print(x)\n",
    "\n",
    "y = calculadora.multiplicacao(2,3)\n",
    "print(y)\n",
    "\n",
    "z = x + y\n",
    "print(z)"
   ]
  },
  {
   "cell_type": "code",
   "execution_count": null,
   "metadata": {},
   "outputs": [],
   "source": [
    "from calculadora import *\n",
    "\n",
    "w = divisao(y,x)\n",
    "print(w)"
   ]
  },
  {
   "cell_type": "markdown",
   "metadata": {},
   "source": [
    "### Adicionando outros locais que não o do arquivo contendo o programa "
   ]
  },
  {
   "cell_type": "code",
   "execution_count": 12,
   "metadata": {},
   "outputs": [],
   "source": [
    "import sys\n",
    "sys.path.append('C:\\\\Users\\\\Desktop')   # Use barras duplas, \\\\, em vez de barra simples,\\ !"
   ]
  },
  {
   "cell_type": "markdown",
   "metadata": {},
   "source": [
    "### Importando módulos da *biblioteca padrão* do Python "
   ]
  },
  {
   "cell_type": "markdown",
   "metadata": {},
   "source": [
    "Há diversos módulos do Python que fazem parte da *biblioteca padrão* da linguagem, e que, uma vez importados, nos disponibilizam as coisas que estão definidas dentro dele.\n",
    "\n",
    "Para uma listagem completa: https://docs.python.org/3/py-modindex.html"
   ]
  },
  {
   "cell_type": "code",
   "execution_count": 14,
   "metadata": {},
   "outputs": [
    {
     "name": "stdout",
     "output_type": "stream",
     "text": [
      "3.141592653589793\n",
      "2.718281828459045\n",
      "1.4142135623730951\n",
      "1.0\n",
      "1.0\n"
     ]
    }
   ],
   "source": [
    "# Utilizando a biblioteca \"math\" de funções matemáticas\n",
    "import math\n",
    "\n",
    "print(math.pi)\n",
    "print(math.e)\n",
    "print(math.sqrt(2))\n",
    "print(math.sin(math.pi/2))          # seno de pi/2 radianos\n",
    "print(math.sin(math.radians(90)))   # seno de 90 graus"
   ]
  }
 ],
 "metadata": {
  "kernelspec": {
   "display_name": "Python 3",
   "language": "python",
   "name": "python3"
  },
  "language_info": {
   "codemirror_mode": {
    "name": "ipython",
    "version": 3
   },
   "file_extension": ".py",
   "mimetype": "text/x-python",
   "name": "python",
   "nbconvert_exporter": "python",
   "pygments_lexer": "ipython3",
   "version": "3.7.7"
  }
 },
 "nbformat": 4,
 "nbformat_minor": 2
}
