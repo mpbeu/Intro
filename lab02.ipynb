{
 "cells": [
  {
   "cell_type": "markdown",
   "metadata": {},
   "source": [
    "# Estruturas de controle de execução"
   ]
  },
  {
   "cell_type": "markdown",
   "metadata": {},
   "source": [
    "Estruturas condicionais \n",
    "\n",
    "Estruturas de repetição \n",
    "- Laço ``while``\n",
    "- Laço ``while True``\n",
    "- Laço ``for``"
   ]
  },
  {
   "cell_type": "markdown",
   "metadata": {},
   "source": [
    "## Estruturas condicionais"
   ]
  },
  {
   "cell_type": "markdown",
   "metadata": {},
   "source": [
    "### Estrutura condicional simples\n",
    "``` \n",
    "if <condição>:\n",
    "    <bloco de código indentado>\n",
    "<bloco de código não indentado>\n",
    "```"
   ]
  },
  {
   "cell_type": "code",
   "execution_count": null,
   "metadata": {},
   "outputs": [],
   "source": [
    "A = int(input('Digite um inteiro: '))\n",
    "B = int(input('Digite outro inteiro: '))\n",
    "C = int(input('Digite mais um outro inteiro: '))\n",
    "if A + B < C:\n",
    "    print(\"A + B e menor que C.\")\n",
    "print(\"Fim do programa\")"
   ]
  },
  {
   "cell_type": "markdown",
   "metadata": {},
   "source": [
    "### Estrutura condicional composta\n",
    "``` \n",
    "if <condição>:\n",
    "    <bloco de código indentado 1>\n",
    "else:\n",
    "    <bloco de código indentado 2>\n",
    "<bloco de código não indentado>\n",
    "```"
   ]
  },
  {
   "cell_type": "code",
   "execution_count": null,
   "metadata": {},
   "outputs": [],
   "source": [
    "A = eval(input(\"Digite A: \"))\n",
    "B = eval(input(\"Digite B: \"))\n",
    "if  B == 0:\n",
    "    print(\"Não é possivel fazer a divisão.\")\n",
    "else:\n",
    "    C = A/B\n",
    "    print(\"A/B = %.5f\" % C)\n",
    "print(\"Fim.\")"
   ]
  },
  {
   "cell_type": "markdown",
   "metadata": {},
   "source": [
    "### Estrutura condicional composta de forma aninhada"
   ]
  },
  {
   "cell_type": "code",
   "execution_count": null,
   "metadata": {},
   "outputs": [],
   "source": [
    "# Menor dentre três valores\n",
    "A = eval(input(\"Digite A: \"))\n",
    "B = eval(input(\"Digite B: \"))\n",
    "C = eval(input(\"Digite C: \"))\n",
    "if A < B and A < C:\n",
    "    MENOR = A      \n",
    "else:              \n",
    "    if B < C:      \n",
    "        MENOR = B  \n",
    "    else:\n",
    "        MENOR = C  \n",
    "print(MENOR)"
   ]
  },
  {
   "cell_type": "markdown",
   "metadata": {},
   "source": [
    "### Estrutura condicional composta usando ```elif```"
   ]
  },
  {
   "cell_type": "code",
   "execution_count": null,
   "metadata": {},
   "outputs": [],
   "source": [
    "# Menor dentre três valores - opção 2\n",
    "print('Este programa ordena valores inteiros ' \n",
    "       'e determina o menor deles.')\n",
    "A = int(input('Digite o primeiro número: '))\n",
    "B = int(input('Digite o segundo número: '))\n",
    "C = int(input('Digite o terceiro número: '))\n",
    "if A < B and A < C:\n",
    "    MENOR = A\n",
    "elif B < C:\n",
    "    MENOR = B\n",
    "else:\n",
    "    MENOR = C\n",
    "print('O menor valor informado é', MENOR)"
   ]
  },
  {
   "cell_type": "code",
   "execution_count": null,
   "metadata": {},
   "outputs": [],
   "source": [
    "# Ordenar três valores\n",
    "print('Este programa põe três valores em ordem crescente.')\n",
    "L = float(input('Digite o primeiro número: '))\n",
    "M = float(input('Digite o segundo número: '))\n",
    "N = float(input('Digite o terceiro número: '))\n",
    "if L > M or L > N:\n",
    "    if M < N:\n",
    "        AUXILIAR = L\n",
    "        L = M\n",
    "        M = AUXILIAR\n",
    "    else:\n",
    "        AUXILIAR = L\n",
    "        L = N\n",
    "        N = AUXILIAR\n",
    "if M > N:\n",
    "    AUXILIAR = M\n",
    "    M = N\n",
    "    N = AUXILIAR\n",
    "print('L = %f \\nM = %f \\nN = %f' %(L, M, N))\n"
   ]
  },
  {
   "cell_type": "markdown",
   "metadata": {},
   "source": [
    "## Estruturas de Repetição\n"
   ]
  },
  {
   "cell_type": "markdown",
   "metadata": {},
   "source": [
    "São estruturas de controle que permitem a execução repetitiva de uma instrução ou um bloco de instruções."
   ]
  },
  {
   "cell_type": "markdown",
   "metadata": {},
   "source": [
    "### Laço ``while``\n",
    "\n",
    "Enquanto a condição for verdadeira, repete o bloco indentado.\n",
    "\n",
    "``` \n",
    "while <condição>:\n",
    "    <bloco de código indentado>\n",
    "<bloco de código não indentado>\n",
    "```"
   ]
  },
  {
   "cell_type": "code",
   "execution_count": null,
   "metadata": {},
   "outputs": [],
   "source": [
    "# Exemplo 1 - Enquanto\n",
    "r = int(input(\"Digite um inteiro menor do que 10! > \"))\n",
    "while r < 1000:\n",
    "    print(r)\n",
    "    r = r**2\n",
    "print(\"Limite atingido.\")"
   ]
  },
  {
   "cell_type": "code",
   "execution_count": null,
   "metadata": {},
   "outputs": [],
   "source": [
    "# liste inteiros positivos até que o produto deles >= 100\n",
    "n = 1\n",
    "x = 1\n",
    "print(x)\n",
    "while n < 100:\n",
    "    x = x + 1\n",
    "    n = n * x\n",
    "    print(x)\n",
    "print(\"Produto =\", n)"
   ]
  },
  {
   "cell_type": "code",
   "execution_count": null,
   "metadata": {},
   "outputs": [],
   "source": [
    "#Dá a soma de três valores informados pelo usuário \n",
    "n = 1\n",
    "soma = 0\n",
    "while n <= 3:\n",
    "    x = int(input(\"Digite o %d numero: \"%n))\n",
    "    soma = soma + x\n",
    "    n = n + 1\n",
    "print(\"Soma: %d\" % soma)"
   ]
  },
  {
   "cell_type": "code",
   "execution_count": null,
   "metadata": {},
   "outputs": [],
   "source": [
    "#Soma dos números pares desde 100 até 200, inclusive\n",
    "SOMA = 0\n",
    "PAR = 100\n",
    "while PAR <= 200: \n",
    "    SOMA = SOMA + PAR\n",
    "    PAR = PAR + 2\n",
    "print(SOMA)"
   ]
  },
  {
   "cell_type": "code",
   "execution_count": null,
   "metadata": {},
   "outputs": [],
   "source": [
    "#Fatorial com laço tipo 'enquanto'\n",
    "N = int(input('Informe o valor para N: '))\n",
    "FAT = 1\n",
    "CONT = 1\n",
    "while CONT <= N:\n",
    "    FAT = FAT * CONT\n",
    "    CONT = CONT + 1\n",
    "print('N! = ',FAT)"
   ]
  },
  {
   "cell_type": "code",
   "execution_count": null,
   "metadata": {},
   "outputs": [],
   "source": [
    "# Fibonacci\n",
    "a = 0\n",
    "b = 1\n",
    "limite = eval(input('Gerar sequência com valores abaixo de: '))\n",
    "while b < limite:\n",
    "    print(b)\n",
    "    a, b = b, a+b\n",
    "    \n",
    "#     temp = a+b\n",
    "#     a = b\n",
    "#     b = temp\n",
    "    "
   ]
  },
  {
   "attachments": {},
   "cell_type": "markdown",
   "metadata": {},
   "source": [
    "### Laço ``while True``\n",
    "\n",
    "**Pode conter gatilho de saída (*repita até que...*):**  Repete os comandos indentados até que certa condição resulte verdadeira.\n",
    "\n"
   ]
  },
  {
   "cell_type": "code",
   "execution_count": null,
   "metadata": {},
   "outputs": [],
   "source": [
    "while True:\n",
    "    name = input('Qual é o seu nome? \\n> ')\n",
    "    print('Olá %s' %(name))\n",
    "#     if name == '': \n",
    "#         break"
   ]
  },
  {
   "cell_type": "code",
   "execution_count": null,
   "metadata": {},
   "outputs": [],
   "source": [
    "# Soma dos números pares, com limites inferior e superior definido pelo usuário.\n",
    "\n",
    "while True:           #Usado para certificar que os valores são ok\n",
    "    PAR = eval(input ('defina limite inferior: '))\n",
    "    SUP = eval(input ('defina limite superior: '))\n",
    "    if PAR <= SUP:\n",
    "        break\n",
    "    print('digite novamente')\n",
    "\n",
    "SOMA = 0\n",
    "while True:           #Cálculo\n",
    "    SOMA = SOMA + PAR\n",
    "    PAR = PAR + 2\n",
    "    if PAR > 200:\n",
    "        break\n",
    "print(SOMA)"
   ]
  },
  {
   "cell_type": "code",
   "execution_count": null,
   "metadata": {},
   "outputs": [],
   "source": [
    "#Fatorial com laço tipo 'repita.. até'\n",
    "N = int(input('Informe o valor para N: '))\n",
    "FAT = 1\n",
    "CONT = 1\n",
    "while True:\n",
    "    FAT = FAT * CONT\n",
    "    CONT = CONT + 1\n",
    "    if CONT > N:\n",
    "        break\n",
    "print('N! = ',FAT)"
   ]
  },
  {
   "cell_type": "code",
   "execution_count": null,
   "metadata": {},
   "outputs": [],
   "source": [
    "#Fatorial com validação do valor de N\n",
    "while True:\n",
    "    N = eval(input('Informe o valor para N: '))\n",
    "    if type(N) == int:\n",
    "        break\n",
    "    print('ERRO! Você digitou um valor não inteiro.')\n",
    "FAT = 1\n",
    "CONT = 1\n",
    "while CONT <= N:\n",
    "    FAT = FAT * CONT\n",
    "    CONT = CONT + 1\n",
    "print('N! = ',FAT)"
   ]
  },
  {
   "cell_type": "code",
   "execution_count": null,
   "metadata": {},
   "outputs": [],
   "source": [
    "# Fibonacci 2\n",
    "limite = eval(input('Gerar sequência com valores abaixo de: '))\n",
    "x, y = 1, 1\n",
    "if x < limite: print(x)\n",
    "if y < limite: print(y)\n",
    "while True:\n",
    "    x, y = y, x + y\n",
    "    print(y)\n",
    "    if x + y >= limite: \n",
    "        break"
   ]
  },
  {
   "attachments": {},
   "cell_type": "markdown",
   "metadata": {},
   "source": [
    "### Laço ``for``\n",
    "\n",
    "Executa um bloco de código para cada item numa sequência.\n",
    "\n",
    "``` \n",
    "for <variável> in <sequência>:\n",
    "    <bloco de código indentado>\n",
    "<bloco de código não indentado>\n",
    "```\n",
    "\n",
    "Se  <sequência> é uma lista, então os seus itens são os objetos na lista.\n",
    "Se  <sequência>  é uma string, então os itens são os seus caracteres."
   ]
  },
  {
   "attachments": {},
   "cell_type": "markdown",
   "metadata": {},
   "source": [
    "#### Laço de Iteração\n",
    "\n",
    "Percorre todos os itens numa sequência explícita de valores e realiza alguma ação sobre cada valor."
   ]
  },
  {
   "cell_type": "code",
   "execution_count": null,
   "metadata": {},
   "outputs": [],
   "source": [
    "name = 'Apple'\n",
    "for char in name:\n",
    "    print(char)"
   ]
  },
  {
   "cell_type": "code",
   "execution_count": null,
   "metadata": {},
   "outputs": [],
   "source": [
    "lst = ['stop', 'desktop', 'post', 'top']\n",
    "for word in lst:\n",
    "    if 'top' in word:\n",
    "        print(word)"
   ]
  },
  {
   "cell_type": "code",
   "execution_count": null,
   "metadata": {},
   "outputs": [],
   "source": [
    "L = [8,9,15,20]\n",
    "i = 0\n",
    "for x in L:\n",
    "    print(x)\n",
    "\n",
    "# while i < len(L):\n",
    "#      x = L[i]\n",
    "#      print(x)\n",
    "#      i += 1"
   ]
  },
  {
   "attachments": {},
   "cell_type": "markdown",
   "metadata": {},
   "source": [
    "#### Função ``range()``\n",
    "Usada para percorrer uma sequência de números num dado intervalo."
   ]
  },
  {
   "cell_type": "code",
   "execution_count": null,
   "metadata": {},
   "outputs": [],
   "source": [
    "# Percorrer n números 0, 1, 2, …, n-1\n",
    "for i in range(10):\n",
    "    print(i)"
   ]
  },
  {
   "cell_type": "code",
   "execution_count": null,
   "metadata": {},
   "outputs": [],
   "source": [
    "# Percorrer n números i, i+1, i+2, …, n-1\n",
    "for i in range(1,11):\n",
    "    print(i)"
   ]
  },
  {
   "cell_type": "code",
   "execution_count": null,
   "metadata": {},
   "outputs": [],
   "source": [
    "# Percorrer a sequência  i, i+c, i+2c,…, n-1\n",
    "for i in range(0,11,2):\n",
    "    print(i, end=' ')\n"
   ]
  },
  {
   "attachments": {},
   "cell_type": "markdown",
   "metadata": {},
   "source": [
    "#### Laço de Acumulação\n",
    "\n",
    "Acumula algo a cada iteração.\n"
   ]
  },
  {
   "cell_type": "code",
   "execution_count": null,
   "metadata": {},
   "outputs": [],
   "source": [
    "# Soma de números numa lista\n",
    "res = 0\n",
    "for i in range(0,11,2):\n",
    "    res += i\n",
    "    print(res)"
   ]
  },
  {
   "cell_type": "code",
   "execution_count": null,
   "metadata": {},
   "outputs": [],
   "source": [
    "# Fatorial\n",
    "N = eval(input('Informe o valor para N: '))\n",
    "res = 1               \n",
    "for i in range(2, N+1):\n",
    "    res *= i\n",
    "print(res)"
   ]
  }
 ],
 "metadata": {
  "kernelspec": {
   "display_name": "Python 3",
   "language": "python",
   "name": "python3"
  },
  "language_info": {
   "codemirror_mode": {
    "name": "ipython",
    "version": 3
   },
   "file_extension": ".py",
   "mimetype": "text/x-python",
   "name": "python",
   "nbconvert_exporter": "python",
   "pygments_lexer": "ipython3",
   "version": "3.5.0"
  }
 },
 "nbformat": 4,
 "nbformat_minor": 2
}
