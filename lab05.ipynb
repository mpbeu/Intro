{
 "cells": [
  {
   "cell_type": "markdown",
   "metadata": {},
   "source": [
    "# DataFrame"
   ]
  },
  {
   "cell_type": "markdown",
   "metadata": {},
   "source": [
    "**Arquivos utilizados**:  \n",
    "- *exemplo_notas_alunos.xlsx (exemplo_notas_alunos.csv)*\n",
    "- *exemplo_faltas_alunos.xlsx (exemplo_faltas_alunos.csv)*\n",
    "- *exemplo_dados_alunos.xlsx (exemplo_dados_alunos.csv)*\n",
    "\n",
    "**Fonte: https://pandas.pydata.org/pandas-docs/stable/index.html**\n"
   ]
  },
  {
   "cell_type": "markdown",
   "metadata": {},
   "source": [
    "## Criando um *dataframe*"
   ]
  },
  {
   "cell_type": "markdown",
   "metadata": {},
   "source": [
    "#### Lendo um arquivo .csv"
   ]
  },
  {
   "cell_type": "code",
   "execution_count": null,
   "metadata": {},
   "outputs": [],
   "source": [
    "import numpy as np\n",
    "import pandas as pd\n",
    "pd.read_csv('exemplo_notas_alunos.csv',sep=';')"
   ]
  },
  {
   "cell_type": "markdown",
   "metadata": {},
   "source": [
    "#### Lendo um arquivo Excel"
   ]
  },
  {
   "cell_type": "code",
   "execution_count": null,
   "metadata": {},
   "outputs": [],
   "source": [
    "#Instalando as bibliotecas necessária para ler e escrever arquivos do Excel.\n",
    "! pip install xlrd\n",
    "! pip install openpyxl"
   ]
  },
  {
   "cell_type": "code",
   "execution_count": null,
   "metadata": {},
   "outputs": [],
   "source": [
    "#Lendo a tabela Excel\n",
    "df = pd.read_excel('exemplo_notas_alunos.xlsx', sheet_name='exemplo_notas_alunos')\n",
    "df"
   ]
  },
  {
   "cell_type": "code",
   "execution_count": null,
   "metadata": {},
   "outputs": [],
   "source": [
    "colunas = ['Matricula','Nome']\n",
    "df[colunas]"
   ]
  },
  {
   "cell_type": "code",
   "execution_count": null,
   "metadata": {
    "scrolled": true
   },
   "outputs": [],
   "source": [
    "print(df.head())\n",
    "print('\\n. . . \\n')\n",
    "print(df.tail())"
   ]
  },
  {
   "cell_type": "code",
   "execution_count": null,
   "metadata": {},
   "outputs": [],
   "source": [
    "df.describe()"
   ]
  },
  {
   "cell_type": "code",
   "execution_count": null,
   "metadata": {},
   "outputs": [],
   "source": [
    "print(df.sum())\n",
    "print(df.shape)"
   ]
  },
  {
   "cell_type": "code",
   "execution_count": null,
   "metadata": {},
   "outputs": [],
   "source": [
    "df.set_index('Matricula', inplace=True)\n",
    "df.head(10)"
   ]
  },
  {
   "cell_type": "code",
   "execution_count": null,
   "metadata": {},
   "outputs": [],
   "source": [
    "df.sort_index(inplace=True)\n",
    "df.head(10)"
   ]
  },
  {
   "cell_type": "code",
   "execution_count": null,
   "metadata": {},
   "outputs": [],
   "source": [
    "df.sort_values(by=['Nome'], inplace=True)\n",
    "df.head(10)"
   ]
  },
  {
   "cell_type": "code",
   "execution_count": null,
   "metadata": {},
   "outputs": [],
   "source": [
    "df = pd.read_excel('exemplo_notas_alunos.xlsx', index_col=0)\n",
    "# df = pd.read_csv('exemplo_notas_alunos.csv', sep=';', index_col=0)\n",
    "df.head()"
   ]
  },
  {
   "cell_type": "code",
   "execution_count": null,
   "metadata": {},
   "outputs": [],
   "source": [
    "df['Nota1'].head()\n",
    "\n",
    "# #Alternativamene\n",
    "# df.Nota1.head()"
   ]
  },
  {
   "cell_type": "code",
   "execution_count": null,
   "metadata": {},
   "outputs": [],
   "source": [
    "df[['Nome', 'Nota1']].head()\n",
    "\n",
    "# #Alternativamente:\n",
    "# colunas = ['Nome', 'Nota1'] \n",
    "# df[colunas].head()"
   ]
  },
  {
   "cell_type": "code",
   "execution_count": null,
   "metadata": {},
   "outputs": [],
   "source": [
    "for i in df.index: print(i)"
   ]
  },
  {
   "cell_type": "markdown",
   "metadata": {},
   "source": [
    "Uma **série** é basicamente um dataframe de coluna única. Uma **série** tem um índice, que desaparece caso você converta a série em uma lista. \n",
    "Sempre que escrevemos algo como `` df ['column'] `` ou `` df.column``, o retorno é uma **série**."
   ]
  },
  {
   "cell_type": "code",
   "execution_count": null,
   "metadata": {},
   "outputs": [],
   "source": [
    "nota1 = df.Nota1\n",
    "print(nota1)\n",
    "print(type(nota1))"
   ]
  },
  {
   "cell_type": "code",
   "execution_count": null,
   "metadata": {},
   "outputs": [],
   "source": [
    "nota1 = list(df.Nota1)\n",
    "print(nota1)\n",
    "type(nota1)"
   ]
  },
  {
   "cell_type": "code",
   "execution_count": null,
   "metadata": {},
   "outputs": [],
   "source": [
    "nota1 = np.array(df.Nota1)\n",
    "print(nota1)\n",
    "type(nota1)"
   ]
  },
  {
   "cell_type": "code",
   "execution_count": null,
   "metadata": {},
   "outputs": [],
   "source": [
    "df = df.rename(columns={'Nome':'Aluno'})\n",
    "df.head()\n",
    "\n",
    "# # Alternativamente\n",
    "# df.rename(columns={'Nome':'Aluno'}, inplace=True)"
   ]
  },
  {
   "cell_type": "code",
   "execution_count": null,
   "metadata": {},
   "outputs": [],
   "source": [
    "colunas = list(df.columns)\n",
    "print(colunas)\n",
    "\n",
    "# #Alternativamente\n",
    "# colunas =[]\n",
    "# for i in df.columns:\n",
    "#     colunas.append(i)\n",
    "# print(colunas) "
   ]
  },
  {
   "cell_type": "code",
   "execution_count": null,
   "metadata": {},
   "outputs": [],
   "source": [
    "df.head()"
   ]
  },
  {
   "cell_type": "code",
   "execution_count": null,
   "metadata": {},
   "outputs": [],
   "source": [
    "df.to_excel('exemplo_notas_alunos_sem_colunas.xlsx', sheet_name='Plan1', header=False)\n",
    "# df.to_csv('exemplo_notas_alunos_sem_colunas.csv', header=False)"
   ]
  },
  {
   "cell_type": "code",
   "execution_count": null,
   "metadata": {},
   "outputs": [],
   "source": [
    "pd.read_excel('exemplo_notas_alunos_sem_colunas.xlsx',index_col=None).head()\n",
    "# pd.read_csv('exemplo_notas_alunos_sem_colunas.csv', index_col=0).head()"
   ]
  },
  {
   "cell_type": "code",
   "execution_count": null,
   "metadata": {},
   "outputs": [],
   "source": [
    "df = pd.read_excel('exemplo_notas_alunos_sem_colunas.xlsx', index_col=0, header=None, names=colunas)\n",
    "df.index = df.index.set_names('Matricula')\n",
    "df.head()\n",
    "# df = pd.read_csv('exemplo_notas_alunos_sem_colunas.csv', index_col=0, names=colunas)"
   ]
  },
  {
   "cell_type": "markdown",
   "metadata": {},
   "source": [
    "## Combinando Dataframes\n",
    "\n",
    "As formas de combinar dataframes são: *merging*, *joining*, *concatenation* e *appending*."
   ]
  },
  {
   "cell_type": "markdown",
   "metadata": {},
   "source": [
    "### Merging"
   ]
  },
  {
   "cell_type": "code",
   "execution_count": null,
   "metadata": {},
   "outputs": [],
   "source": [
    "df = pd.read_excel('exemplo_notas_alunos.xlsx')\n",
    "df_faltas = pd.read_excel('exemplo_faltas_alunos.xlsx')\n",
    "# df_ = pd.read_csv('exemplo_notas_alunos.csv', sep=';')\n",
    "# df_faltas_ = pd.read_csv('exemplo_faltas_alunos.csv', sep=';')\n",
    "\n",
    "print(df.head(),'\\n')\n",
    "print(df_faltas.head())"
   ]
  },
  {
   "cell_type": "code",
   "execution_count": null,
   "metadata": {},
   "outputs": [],
   "source": [
    "df2 = pd.merge(df,df_faltas, on='Matricula')\n",
    "df2.head()"
   ]
  },
  {
   "cell_type": "code",
   "execution_count": null,
   "metadata": {},
   "outputs": [],
   "source": [
    "df2 = pd.merge(df,df_faltas, on=['Matricula','Nome'])\n",
    "df2.head()"
   ]
  },
  {
   "cell_type": "code",
   "execution_count": null,
   "metadata": {},
   "outputs": [],
   "source": [
    "df.set_index('Matricula', inplace=True)\n",
    "df_faltas.set_index('Matricula', inplace=True)"
   ]
  },
  {
   "cell_type": "code",
   "execution_count": null,
   "metadata": {},
   "outputs": [],
   "source": [
    "print(df.head(),'\\n\\n',df_faltas.head())"
   ]
  },
  {
   "cell_type": "code",
   "execution_count": null,
   "metadata": {},
   "outputs": [],
   "source": [
    "df2 = pd.merge(df,df_faltas, left_index=True, right_index=True)\n",
    "print(df2.head())"
   ]
  },
  {
   "cell_type": "code",
   "execution_count": null,
   "metadata": {},
   "outputs": [],
   "source": [
    "print(df_faltas.head())\n",
    "\n",
    "df_faltas.reset_index(level=0, inplace=True)\n",
    "print('\\n',df_faltas.head())\n",
    "\n",
    "# #Alternativamente\n",
    "# df_faltas['Matricula'] = df_faltas.index\n",
    "# df_faltas.index = np.arange(len(df_faltas.Matricula))\n",
    "# print(df_faltas.head())"
   ]
  },
  {
   "cell_type": "code",
   "execution_count": null,
   "metadata": {},
   "outputs": [],
   "source": [
    "df_dados = pd.read_excel('exemplo_dados_alunos.xlsx')\n",
    "# df_dados = pd.read_csv('exemplo_dados_alunos.csv', sep=';')\n",
    "\n",
    "print(df_dados.head())\n",
    "print('\\n',50*'-','\\n')\n",
    "print(df_dados.tail())"
   ]
  },
  {
   "cell_type": "code",
   "execution_count": null,
   "metadata": {},
   "outputs": [],
   "source": [
    "print(df_dados.Curso.describe(),'\\n')\n",
    "print(df_dados.Curso.unique())"
   ]
  },
  {
   "cell_type": "code",
   "execution_count": null,
   "metadata": {},
   "outputs": [],
   "source": [
    "df = pd.read_excel('exemplo_notas_alunos.xlsx')\n",
    "df2 = pd.merge(df,df_faltas, on=['Matricula','Nome'])\n",
    "df3 = pd.merge(df2,df_dados, on=['Matricula','Nome'], how='left')"
   ]
  },
  {
   "cell_type": "code",
   "execution_count": null,
   "metadata": {},
   "outputs": [],
   "source": [
    "print(df.head(),'\\n')\n",
    "print(df2.head(),'\\n')\n",
    "print(df3.head(),'\\n')"
   ]
  },
  {
   "cell_type": "markdown",
   "metadata": {},
   "source": [
    "### Alternativamente: ``DataFrame.join``\n",
    "\n",
    "Junta os dataframes com base nos **índices**."
   ]
  },
  {
   "cell_type": "code",
   "execution_count": null,
   "metadata": {},
   "outputs": [],
   "source": [
    "df.set_index('Matricula', inplace=True)\n",
    "df_faltas.set_index('Matricula', inplace=True)\n",
    "df_dados.set_index('Matricula', inplace=True)\n",
    "print(df.head(),'\\n\\n',df_faltas.head(),'\\n\\n',df_dados.head())"
   ]
  },
  {
   "cell_type": "code",
   "execution_count": null,
   "metadata": {},
   "outputs": [],
   "source": [
    "df = df.join(df_faltas.Faltas)\n",
    "dados = ['Curso','Ingresso']\n",
    "df = df.join(df_dados[dados])\n",
    "df.head()"
   ]
  },
  {
   "cell_type": "code",
   "execution_count": null,
   "metadata": {},
   "outputs": [],
   "source": [
    "df = df[['Nome','Curso','Ingresso','Faltas','Nota1','Nota2']]"
   ]
  },
  {
   "cell_type": "code",
   "execution_count": null,
   "metadata": {},
   "outputs": [],
   "source": [
    "df.head()"
   ]
  },
  {
   "cell_type": "markdown",
   "metadata": {},
   "source": [
    "### Appending\n",
    "\n",
    "You may want to \"append\" to them, where you may be adding to the end, basically adding more rows."
   ]
  },
  {
   "cell_type": "code",
   "execution_count": null,
   "metadata": {},
   "outputs": [],
   "source": [
    "mais_alunos = {'Nome':['Juliana Lima','Carlos Brito','Carla Gomes'],\n",
    "               'Curso':['Administração','Administração','Administração'],\n",
    "               'Ingresso':[2015,2016,2017],\n",
    "               'Faltas':[0.0, 0.0, 0.0],\n",
    "               'Nota1':[4.5, 8.6, 9.0], \n",
    "               'Nota2':[7.0, 7.5, 9.0]}\n",
    "\n",
    "df_mais_alunos = pd.DataFrame(mais_alunos, index = [423320,455553,337566])"
   ]
  },
  {
   "cell_type": "code",
   "execution_count": null,
   "metadata": {},
   "outputs": [],
   "source": [
    "print(df_mais_alunos.head())"
   ]
  },
  {
   "cell_type": "code",
   "execution_count": null,
   "metadata": {},
   "outputs": [],
   "source": [
    "df_mais_alunos = df_mais_alunos[['Nome','Curso','Ingresso','Faltas','Nota1','Nota2']]\n",
    "print(df_mais_alunos.head())"
   ]
  },
  {
   "cell_type": "code",
   "execution_count": null,
   "metadata": {},
   "outputs": [],
   "source": [
    "print(df.describe())\n",
    "print('\\n',50*'-','\\n')\n",
    "df = df.append(df_mais_alunos)\n",
    "print(df.describe())"
   ]
  },
  {
   "cell_type": "code",
   "execution_count": null,
   "metadata": {},
   "outputs": [],
   "source": [
    "print(df.describe())\n",
    "df"
   ]
  },
  {
   "cell_type": "markdown",
   "metadata": {},
   "source": [
    "outra forma..."
   ]
  },
  {
   "cell_type": "code",
   "execution_count": null,
   "metadata": {},
   "outputs": [],
   "source": [
    "pd.concat([df, df_mais_alunos], join='inner')"
   ]
  }
 ],
 "metadata": {
  "kernelspec": {
   "display_name": "Python 3",
   "language": "python",
   "name": "python3"
  },
  "language_info": {
   "codemirror_mode": {
    "name": "ipython",
    "version": 3
   },
   "file_extension": ".py",
   "mimetype": "text/x-python",
   "name": "python",
   "nbconvert_exporter": "python",
   "pygments_lexer": "ipython3",
   "version": "3.5.0"
  }
 },
 "nbformat": 4,
 "nbformat_minor": 2
}
