{
 "cells": [
  {
   "cell_type": "markdown",
   "metadata": {},
   "source": [
    "# DataFrame"
   ]
  },
  {
   "cell_type": "markdown",
   "metadata": {},
   "source": [
    "**Arquivo utilizado**:  *exemplo_alunos.xlsx*\n",
    "\n",
    "**Fonte de consulta: https://pandas.pydata.org/pandas-docs/stable/index.html**\n"
   ]
  },
  {
   "cell_type": "markdown",
   "metadata": {},
   "source": [
    "## Selecionando dados"
   ]
  },
  {
   "cell_type": "markdown",
   "metadata": {},
   "source": [
    "Nesta seção, nos concentraremos em como fatiar e obter subconjuntos de um DataFrame.\n",
    "Para selecionar fatias de um objeto pandas (uma série ou um dataframe), utilizamos `[]` de acordo com a tabela abaixo:"
   ]
  },
  {
   "cell_type": "markdown",
   "metadata": {},
   "source": [
    "| Tipo de objeto | Seleção | Valor de retorno |\n",
    "| --- | --- | --- |\n",
    "|Série | série \\[rótulo\\] | valor escalar |\n",
    "| DataFrame | frame \\[colname\\] | Série correspondente a colname|"
   ]
  },
  {
   "cell_type": "code",
   "execution_count": null,
   "metadata": {},
   "outputs": [],
   "source": [
    "import pandas as pd\n",
    "import numpy as np\n",
    "df = pd.read_excel('exemplo_alunos.xlsx')"
   ]
  },
  {
   "cell_type": "code",
   "execution_count": null,
   "metadata": {},
   "outputs": [],
   "source": [
    "s = df['Faltas']\n",
    "s[20:25]"
   ]
  },
  {
   "cell_type": "code",
   "execution_count": null,
   "metadata": {},
   "outputs": [],
   "source": [
    "df[20:25]"
   ]
  },
  {
   "cell_type": "code",
   "execution_count": null,
   "metadata": {},
   "outputs": [],
   "source": [
    "df[20:21]"
   ]
  },
  {
   "cell_type": "code",
   "execution_count": null,
   "metadata": {},
   "outputs": [],
   "source": [
    "df.Curso=='Atuária'"
   ]
  },
  {
   "cell_type": "code",
   "execution_count": null,
   "metadata": {},
   "outputs": [],
   "source": [
    "df[df.Curso=='Atuária']"
   ]
  },
  {
   "cell_type": "code",
   "execution_count": null,
   "metadata": {},
   "outputs": [],
   "source": [
    "df[df.index >= 600000]"
   ]
  },
  {
   "cell_type": "code",
   "execution_count": null,
   "metadata": {},
   "outputs": [],
   "source": [
    "a = df[df.index==322664]\n",
    "print(type(a))\n",
    "a"
   ]
  },
  {
   "cell_type": "code",
   "execution_count": null,
   "metadata": {},
   "outputs": [],
   "source": [
    "df[df.Ingresso < 2016][['Nome', 'Curso']]"
   ]
  },
  {
   "cell_type": "code",
   "execution_count": null,
   "metadata": {},
   "outputs": [],
   "source": [
    "colunas = ['Nome','Curso']\n",
    "df[(df.Ingresso < 2016) & (df.Curso=='Administração')][colunas]"
   ]
  },
  {
   "cell_type": "markdown",
   "metadata": {},
   "source": [
    "**Usando o operador `isin`**"
   ]
  },
  {
   "cell_type": "code",
   "execution_count": null,
   "metadata": {},
   "outputs": [],
   "source": [
    "df[df.Ingresso.isin([2014,2015]) & df.Curso.isin(['Administração','Secretariado'])][colunas]"
   ]
  },
  {
   "cell_type": "code",
   "execution_count": null,
   "metadata": {},
   "outputs": [],
   "source": [
    "df[~df.Ingresso.isin([2016,2017]) & ~df.Curso.isin(['Atuária'])][colunas]"
   ]
  },
  {
   "cell_type": "markdown",
   "metadata": {},
   "source": [
    "### Seleção sobre índices com ``.loc`` e com ``.iloc``"
   ]
  },
  {
   "cell_type": "markdown",
   "metadata": {},
   "source": [
    "``.loc`` trabalha com **rótulos** do índice, retornando os valores da coluna para a(s) linha(s) especificada(s). Aceita um único rótulo, uma lista (ou matriz) de rótulos ou uma fatia de rótulos."
   ]
  },
  {
   "cell_type": "code",
   "execution_count": null,
   "metadata": {},
   "outputs": [],
   "source": [
    "b = df.loc[322664]\n",
    "print(type(b))\n",
    "b"
   ]
  },
  {
   "cell_type": "code",
   "execution_count": null,
   "metadata": {},
   "outputs": [],
   "source": [
    "df.loc[335566:337419]"
   ]
  },
  {
   "cell_type": "code",
   "execution_count": null,
   "metadata": {},
   "outputs": [],
   "source": [
    "df.loc[:322664]"
   ]
  },
  {
   "cell_type": "code",
   "execution_count": null,
   "metadata": {},
   "outputs": [],
   "source": [
    "df_adm = df[df.Curso=='Administração']\n",
    "df_adm.reset_index(level=0, inplace=True)\n",
    "df_adm.set_index('Nome', inplace=True)\n",
    "df_adm = df_adm.rename(columns={'index':'Matricula'})\n",
    "df_adm"
   ]
  },
  {
   "cell_type": "code",
   "execution_count": null,
   "metadata": {},
   "outputs": [],
   "source": [
    "df_adm.loc['Juliana Lima']"
   ]
  },
  {
   "cell_type": "code",
   "execution_count": null,
   "metadata": {},
   "outputs": [],
   "source": [
    "df_adm[df_adm.index=='Juliana Lima']"
   ]
  },
  {
   "cell_type": "code",
   "execution_count": null,
   "metadata": {},
   "outputs": [],
   "source": [
    "lista_alunos = ['Tairine Ferraço', 'Juliana Lima']\n",
    "df_adm.loc[lista_alunos]"
   ]
  },
  {
   "cell_type": "markdown",
   "metadata": {},
   "source": [
    "Podemos selecionar resultados específicos para uma ou mais colunas escrevendo:\n",
    "`df.loc[row_indexer,column_indexer]`"
   ]
  },
  {
   "cell_type": "code",
   "execution_count": null,
   "metadata": {},
   "outputs": [],
   "source": [
    "df_adm.loc[lista_alunos,['Curso','Ingresso']]\n",
    "\n",
    "# #Alternativamente:\n",
    "# colunas = ['Curso','Ingresso']\n",
    "# df_adm.loc[lista_alunos][colunas]"
   ]
  },
  {
   "cell_type": "markdown",
   "metadata": {},
   "source": [
    "Podemos apresentar resultados para algumas colunas com base em critérios aplicados a outras colunas."
   ]
  },
  {
   "cell_type": "code",
   "execution_count": null,
   "metadata": {},
   "outputs": [],
   "source": [
    "df.loc[(df['Curso']=='Administração') & (df['Ingresso']<=2016 ), 'Nome']"
   ]
  },
  {
   "cell_type": "code",
   "execution_count": null,
   "metadata": {},
   "outputs": [],
   "source": [
    "df.loc[(df['Curso']=='Administração') & (df['Ingresso']<=2016 ), 'Nome'].index"
   ]
  },
  {
   "cell_type": "code",
   "execution_count": null,
   "metadata": {},
   "outputs": [],
   "source": [
    "df.loc[(df['Curso']=='Administração') & (df['Ingresso']<=2016 ), 'Nome'].values"
   ]
  },
  {
   "cell_type": "markdown",
   "metadata": {},
   "source": [
    "``.iloc``, trabalha com as **posições** dos índices para selecionar linhas específicas."
   ]
  },
  {
   "cell_type": "code",
   "execution_count": null,
   "metadata": {},
   "outputs": [],
   "source": [
    "df.iloc[[0, 2, 7]]"
   ]
  },
  {
   "cell_type": "code",
   "execution_count": null,
   "metadata": {},
   "outputs": [],
   "source": [
    "df.reset_index(inplace=True)\n",
    "df.head()"
   ]
  },
  {
   "cell_type": "code",
   "execution_count": null,
   "metadata": {},
   "outputs": [],
   "source": [
    "df.rename(columns={'index':'Matricula'}, inplace=True)\n",
    "df.head()"
   ]
  },
  {
   "cell_type": "code",
   "execution_count": null,
   "metadata": {},
   "outputs": [],
   "source": [
    "df.iloc[0:50:5]"
   ]
  },
  {
   "cell_type": "markdown",
   "metadata": {},
   "source": [
    "#### Selecionando registros com dados faltantes (missing data)"
   ]
  },
  {
   "cell_type": "code",
   "execution_count": null,
   "metadata": {},
   "outputs": [],
   "source": [
    "df[df.Nota2.isnull()]"
   ]
  },
  {
   "cell_type": "code",
   "execution_count": null,
   "metadata": {},
   "outputs": [],
   "source": [
    "Nota2 = df[df.Nota2.notnull()].Nota2\n",
    "Nota2.describe()"
   ]
  },
  {
   "cell_type": "code",
   "execution_count": null,
   "metadata": {},
   "outputs": [],
   "source": [
    "df.dropna().describe()"
   ]
  },
  {
   "cell_type": "markdown",
   "metadata": {},
   "source": [
    "### Modificando dados "
   ]
  },
  {
   "cell_type": "code",
   "execution_count": null,
   "metadata": {},
   "outputs": [],
   "source": [
    "df = pd.read_excel('exemplo_alunos.xlsx')\n",
    "df.index.set_names('Matricula', inplace=True)\n",
    "df.head()"
   ]
  },
  {
   "cell_type": "code",
   "execution_count": null,
   "metadata": {},
   "outputs": [],
   "source": [
    "# Modificando a segunda nota do aluno Lázaro Espírito Santo\n",
    "df.loc[322664, 'Nota2'] = 6.5\n",
    "df.head()\n",
    "\n",
    "# # Veja o que acontece se não utilizarmos '.loc'\n",
    "# df[322664, 'Nota2'] = 6.5\n",
    "# print(df.head())\n",
    "# df.drop(columns=[(322664, 'Nota2')], inplace=True)"
   ]
  },
  {
   "cell_type": "code",
   "execution_count": null,
   "metadata": {},
   "outputs": [],
   "source": [
    "df.Nota2 = df.Nota2 + 1\n",
    "df.loc[df.Nota2>10]"
   ]
  },
  {
   "cell_type": "code",
   "execution_count": null,
   "metadata": {},
   "outputs": [],
   "source": [
    "df.Nota2 = df.Nota2-1"
   ]
  },
  {
   "cell_type": "code",
   "execution_count": null,
   "metadata": {},
   "outputs": [],
   "source": [
    "df.loc[(df.Nota2<=9), 'Nota2'] = df.Nota2 + 1\n",
    "df.loc[(df.Nota2>9), 'Nota2'] = 10"
   ]
  },
  {
   "cell_type": "code",
   "execution_count": null,
   "metadata": {},
   "outputs": [],
   "source": [
    "df.loc[df.Nota2>10]"
   ]
  },
  {
   "cell_type": "markdown",
   "metadata": {},
   "source": [
    "### Criando novas colunas a partir das existentes"
   ]
  },
  {
   "cell_type": "code",
   "execution_count": null,
   "metadata": {},
   "outputs": [],
   "source": [
    "# Calculando a nota média\n",
    "df['Media'] = (df.Nota1 + df.Nota2)/2\n",
    "df['Media2'] = df[['Nota1', 'Nota2']].mean(axis=1)\n",
    "df[df.Nota2.isnull()]"
   ]
  },
  {
   "cell_type": "code",
   "execution_count": null,
   "metadata": {},
   "outputs": [],
   "source": [
    "alunos_sem_nota2 = list(df[df.Nota2.isnull()].index)\n",
    "alunos_sem_nota2"
   ]
  },
  {
   "cell_type": "code",
   "execution_count": null,
   "metadata": {},
   "outputs": [],
   "source": [
    "df.loc[df.Nota2.isnull(), 'Nota2'] = 0\n",
    "df.loc[alunos_sem_nota2]"
   ]
  },
  {
   "cell_type": "code",
   "execution_count": null,
   "metadata": {},
   "outputs": [],
   "source": [
    "df['Media'] = (df.Nota1 + df.Nota2)/2            # Calculando pela fórmula\n",
    "df['Media2'] = df[['Nota1', 'Nota2']].mean(axis=1)  # Usando a função do pandas\n",
    "df.loc[alunos_sem_nota2]"
   ]
  },
  {
   "cell_type": "code",
   "execution_count": null,
   "metadata": {},
   "outputs": [],
   "source": [
    "df.loc[(df.Faltas>8), 'Media'] = np.nan\n",
    "df.loc[(df.Faltas>8)]"
   ]
  },
  {
   "cell_type": "code",
   "execution_count": null,
   "metadata": {},
   "outputs": [],
   "source": [
    "df.drop(columns='Media2', inplace=True)\n",
    "df.head()"
   ]
  },
  {
   "cell_type": "code",
   "execution_count": null,
   "metadata": {},
   "outputs": [],
   "source": [
    "df['Resultado'] = 'Aprovado'\n",
    "df.loc[df.Media<7 ,'Resultado'] = 'Recuperação'\n",
    "df.loc[df.Media<4 ,'Resultado'] = 'Reprovado'\n",
    "df.loc[df.Media.isnull() ,'Resultado'] = 'Reprovado por falta'"
   ]
  },
  {
   "cell_type": "code",
   "execution_count": null,
   "metadata": {},
   "outputs": [],
   "source": [
    "df.sort_values('Media',ascending=False)"
   ]
  },
  {
   "cell_type": "code",
   "execution_count": null,
   "metadata": {},
   "outputs": [],
   "source": [
    "df.to_excel('exemplo_alunos_final.xlsx')"
   ]
  }
 ],
 "metadata": {
  "kernelspec": {
   "display_name": "Python 3",
   "language": "python",
   "name": "python3"
  },
  "language_info": {
   "codemirror_mode": {
    "name": "ipython",
    "version": 3
   },
   "file_extension": ".py",
   "mimetype": "text/x-python",
   "name": "python",
   "nbconvert_exporter": "python",
   "pygments_lexer": "ipython3",
   "version": "3.5.0"
  }
 },
 "nbformat": 4,
 "nbformat_minor": 2
}
