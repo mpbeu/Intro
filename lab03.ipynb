{
 "cells": [
  {
   "cell_type": "markdown",
   "metadata": {},
   "source": [
    "# Funções e Modularização de Programas"
   ]
  },
  {
   "cell_type": "markdown",
   "metadata": {},
   "source": [
    "## Funções"
   ]
  },
  {
   "attachments": {},
   "cell_type": "markdown",
   "metadata": {},
   "source": [
    "Já vimos algumas funções embutidas no Python. Por exemplo: ``abs()``, ``max()``, ``len()``, ``sum()``, ``print()``.\n",
    "\n",
    "Para definir uma nova função, utilizamos a seguinte estrutura:\n",
    "```\n",
    "def <nome da função> (<0 ou mais parâmetros>):\n",
    "    <comandos da função - indentados>\n",
    "```"
   ]
  },
  {
   "cell_type": "code",
   "execution_count": null,
   "metadata": {},
   "outputs": [],
   "source": [
    "# Definicao de uma função que soma dois números (parâmetros informados)\n",
    "def soma(a,b):\n",
    "    print(a+b)"
   ]
  },
  {
   "cell_type": "markdown",
   "metadata": {},
   "source": [
    "O comando ``def`` prepara o interpretador para executar uma função quando esta for chamada em outras partes do programa. \n",
    "\n",
    "Para chamar uma função definida no programa, digita-se o nome da função seguido dos parâmetros entre parênteses."
   ]
  },
  {
   "cell_type": "code",
   "execution_count": null,
   "metadata": {},
   "outputs": [],
   "source": [
    "soma(2,3)"
   ]
  },
  {
   "cell_type": "code",
   "execution_count": null,
   "metadata": {},
   "outputs": [],
   "source": [
    "x = soma(2,3)\n",
    "y = 10 + x\n",
    "print(y)"
   ]
  },
  {
   "cell_type": "markdown",
   "metadata": {},
   "source": [
    "### Entrada de parâmetros\n",
    "\n",
    "Funções podem ou não exigir a entrada de parâmetros quando são chamadas.\n"
   ]
  },
  {
   "cell_type": "code",
   "execution_count": null,
   "metadata": {},
   "outputs": [],
   "source": [
    "# Funcao para imprimir uma barra na tela\n",
    "def barra():          # Esta função não recebe qualquer parâmetro\n",
    "    print(\"-\" * 50)\n",
    "barra()"
   ]
  },
  {
   "cell_type": "markdown",
   "metadata": {},
   "source": [
    "Podemos definir funções com entrada *opcional* de parâmetros. Neste caso, são informados um valor padrão para o caso de um parâmetro não informado."
   ]
  },
  {
   "cell_type": "code",
   "execution_count": null,
   "metadata": {},
   "outputs": [],
   "source": [
    "# Uma função que admite parâmetros opcionais\n",
    "def barra2(caractere=\"-\", n=50):\n",
    "    print(n * caractere)\n",
    "barra2()\n",
    "barra2('*', 70)\n"
   ]
  },
  {
   "cell_type": "markdown",
   "metadata": {},
   "source": [
    "Pode-se combinar parâmetros obrigatórios e opcionais, estes devendo ficar por último."
   ]
  },
  {
   "cell_type": "code",
   "execution_count": null,
   "metadata": {},
   "outputs": [],
   "source": [
    "# Funcao para calcular salário\n",
    "def salario(valor_hora, regime_trabalho=40, adicional_noturno=False):\n",
    "    salario = valor_hora*(4.28*regime_trabalho)\n",
    "    if adicional_noturno:\n",
    "        print('R$ %.2f' %(salario*1.5))\n",
    "    else:\n",
    "        print('R$ %.2f' %(salario))\n",
    "\n",
    "# Veja que o parâmetro \"valor_hora\" é obrigatório!\n",
    "salario(50)\n",
    "salario(50,20)\n",
    "salario(50,20,True)"
   ]
  },
  {
   "cell_type": "markdown",
   "metadata": {},
   "source": [
    "Se nomearmos os parâmetros ao chamar uma função, a ordem de passagem dos parâmetros deixa de ser importante!\n"
   ]
  },
  {
   "cell_type": "code",
   "execution_count": null,
   "metadata": {},
   "outputs": [],
   "source": [
    "salario(adicional_noturno=True,regime_trabalho=20, valor_hora=50)"
   ]
  },
  {
   "cell_type": "markdown",
   "metadata": {},
   "source": [
    "#### Funções com número indeterminado de parâmetros\n",
    "\n",
    "Neste caso, na definição da função colocamos um asterisco antes do nome que identifica o conjunto de parâmetro. "
   ]
  },
  {
   "cell_type": "code",
   "execution_count": null,
   "metadata": {},
   "outputs": [],
   "source": [
    "# Funcao soma com numero indeterminado de parametros\n",
    "def soma(*numeros):\n",
    "    s = 0\n",
    "    for x in numeros:\n",
    "        s += x\n",
    "    print(s)\n",
    "\n",
    "soma()\n",
    "soma(2)\n",
    "soma(2,3,4)"
   ]
  },
  {
   "cell_type": "code",
   "execution_count": null,
   "metadata": {},
   "outputs": [],
   "source": [
    "# Funcao imprime_maior com numero indeterminado de parametros\n",
    "def imprime_maior(mensagem, *numeros):\n",
    "    maior = None\n",
    "    for x in numeros:\n",
    "        if maior == None or maior < x:\n",
    "            maior = x\n",
    "    print(mensagem, maior)\n",
    "\n",
    "imprime_maior(\"O maior número é\", 3,4,6,1)"
   ]
  },
  {
   "cell_type": "code",
   "execution_count": null,
   "metadata": {},
   "outputs": [],
   "source": [
    "L = [1,2,4,5,5,3,12,7,4]\n",
    "imprime_maior(\"Maximo:\", *L)"
   ]
  },
  {
   "cell_type": "code",
   "execution_count": null,
   "metadata": {},
   "outputs": [],
   "source": []
  },
  {
   "cell_type": "markdown",
   "metadata": {},
   "source": [
    "### Retornando valores da função\n",
    "\n",
    "A função acima apenas apresenta (imprime) o valor da soma de dois números, mas nenhum valor é **retornado** (disponibilizado) para ser utilizado no programa.\n",
    "\n",
    "Para fazer isso, insira ``return()`` no bloco de comandos da função."
   ]
  },
  {
   "cell_type": "code",
   "execution_count": null,
   "metadata": {},
   "outputs": [],
   "source": [
    "# Definição de uma função com retorno de um valor\n",
    "def soma(a,b):\n",
    "    return(a+b)\n",
    "\n",
    "x = soma(2,3)\n",
    "y = 10 + x\n",
    "print(x)\n",
    "print(y)"
   ]
  },
  {
   "cell_type": "code",
   "execution_count": null,
   "metadata": {},
   "outputs": [],
   "source": [
    "# Retornando se valor e par ou nao\n",
    "def par(x):\n",
    "    return(x % 2 == 0)\n",
    "\n",
    "print(par(2))\n",
    "print(par(3))\n",
    "print(par(10))"
   ]
  },
  {
   "cell_type": "markdown",
   "metadata": {},
   "source": [
    "``return()`` faz com que a função seja interrompida e que o valor seja retornado imediatamente ao programa ou função que o chamou."
   ]
  },
  {
   "cell_type": "code",
   "execution_count": null,
   "metadata": {},
   "outputs": [],
   "source": [
    "# Pesquisa um valor em uma lista e o retorna, caso encontrado.\n",
    "def pesquisa(lista, valor):\n",
    "    for x in lista:\n",
    "        if x == valor:\n",
    "            return(x)\n",
    "    #return(None)\n",
    "\n",
    "L = [10, 20, 30]\n",
    "print('Valor encontrado: ', pesquisa(L,20))\n",
    "print('Valor encontrado: ', pesquisa(L,25))"
   ]
  },
  {
   "cell_type": "markdown",
   "metadata": {},
   "source": [
    "### Chamando (utilizando) uma função dentro de outra"
   ]
  },
  {
   "cell_type": "code",
   "execution_count": null,
   "metadata": {},
   "outputs": [],
   "source": [
    "# Reutilizacao da funcao \"par\" em outra funcao\n",
    "def par(x):\n",
    "    return(x % 2 == 0)\n",
    "\n",
    "def par_ou_impar(x):\n",
    "    if par(x):\n",
    "        return \"par\"\n",
    "    else:\n",
    "        return \"impar\"\n",
    "\n",
    "print(par_ou_impar(10))"
   ]
  },
  {
   "cell_type": "code",
   "execution_count": null,
   "metadata": {},
   "outputs": [],
   "source": [
    "# Funções como parâmetro\n",
    "def soma(a,b):\n",
    "    return a+b\n",
    "def subtracao(a,b):\n",
    "    return a-b\n",
    "def imprime(a,b,operacao):\n",
    "    print(operacao(a,b))\n",
    "\n",
    "imprime(5,4,soma)\n",
    "imprime(5,4,subtracao)"
   ]
  },
  {
   "cell_type": "code",
   "execution_count": null,
   "metadata": {},
   "outputs": [],
   "source": [
    "# Função para validação na entrada de dados\n",
    "def faixa_int(pergunta, minimo, maximo):\n",
    "    while True:\n",
    "        v = int(input(pergunta))\n",
    "        if v < minimo or v > maximo:\n",
    "            print(\"Valor inválido. Digite um valor entre %d e %d\"\n",
    "                  % (minimo,maximo))\n",
    "        else:\n",
    "            return v\n",
    "\n",
    "print(faixa_int('Quantos anos você tem? ', 16, 100))"
   ]
  },
  {
   "cell_type": "code",
   "execution_count": null,
   "metadata": {},
   "outputs": [],
   "source": [
    "# Usando a função acima num programa:\n",
    "idade = faixa_int(\"Quantos anos você tem? \", 16, 60)\n",
    "if idade >= 30:\n",
    "    print('Você já não é tão jovem!')\n",
    "else:\n",
    "    print('Aproveite enquanto é tempo!')\n"
   ]
  },
  {
   "attachments": {},
   "cell_type": "markdown",
   "metadata": {},
   "source": [
    "### Variáveis **locais** e **globais**\n",
    "\n",
    "Variáveis definidas dentro de uma função existem apenas durante a execução da função, e são chamadas de variáveis **locais**."
   ]
  },
  {
   "cell_type": "code",
   "execution_count": null,
   "metadata": {},
   "outputs": [],
   "source": [
    "def imprimir_numero():\n",
    "    x = 20    # x é uma variável local\n",
    "    print(\"Valor de x =\",x)\n",
    "    return(x)"
   ]
  },
  {
   "cell_type": "code",
   "execution_count": null,
   "metadata": {
    "scrolled": true
   },
   "outputs": [],
   "source": [
    "imprimir_numero()"
   ]
  },
  {
   "cell_type": "code",
   "execution_count": null,
   "metadata": {},
   "outputs": [],
   "source": [
    "print(x)"
   ]
  },
  {
   "attachments": {},
   "cell_type": "markdown",
   "metadata": {},
   "source": [
    "Uma variável definida fora de uma função é chamada de variável **global**, e estão disponíveis durante toda a execução do programa."
   ]
  },
  {
   "cell_type": "code",
   "execution_count": null,
   "metadata": {},
   "outputs": [],
   "source": [
    "x = 10     # x é uma variável global\n",
    "print(x)\n",
    "imprimir_numero()"
   ]
  },
  {
   "cell_type": "code",
   "execution_count": null,
   "metadata": {},
   "outputs": [],
   "source": [
    "x = imprimir_numero()\n",
    "print(x)"
   ]
  },
  {
   "cell_type": "code",
   "execution_count": null,
   "metadata": {},
   "outputs": [],
   "source": [
    "def exemplo():\n",
    "    x = 20\n",
    "    z = x + y\n",
    "    return(z)\n",
    "\n",
    "exemplo()"
   ]
  },
  {
   "cell_type": "code",
   "execution_count": null,
   "metadata": {},
   "outputs": [],
   "source": [
    "y = 10    # y é uma variável global\n",
    "exemplo()"
   ]
  },
  {
   "cell_type": "markdown",
   "metadata": {},
   "source": [
    "#### Instrução ``global``"
   ]
  },
  {
   "cell_type": "code",
   "execution_count": null,
   "metadata": {},
   "outputs": [],
   "source": [
    "def imprimir_numero():\n",
    "    global x\n",
    "    x = 20\n",
    "    print(\"valor modificado de x =\",x)\n",
    "\n",
    "x = 10\n",
    "\n",
    "print(\"valor inicial de x =\",x)\n",
    "\n",
    "imprimir_numero()\n",
    "\n",
    "print(\"valor final de x =\",x)\n"
   ]
  },
  {
   "cell_type": "code",
   "execution_count": null,
   "metadata": {},
   "outputs": [],
   "source": [
    "L = [1,1]\n",
    "def adlista():\n",
    "    global L\n",
    "    for x in L:\n",
    "        L = L + [2]"
   ]
  },
  {
   "cell_type": "code",
   "execution_count": null,
   "metadata": {},
   "outputs": [],
   "source": [
    "print('valor inicial de L =', L)\n",
    "adlista()\n",
    "print('valor final de L =', L)"
   ]
  },
  {
   "cell_type": "markdown",
   "metadata": {},
   "source": [
    "\n",
    "\n",
    "## Modularização de Programas"
   ]
  },
  {
   "cell_type": "markdown",
   "metadata": {},
   "source": [
    "A medida que seus programas se tornam longos, pode ser interessante dividi-los em partes menores, que podem ser organizadas e modificadas isoladamente. Tais partes, chamadas **módulos**, podem ser usadas diversas vezes num mesmo programa ou em outros programas.\n",
    "\n",
    "Para definir um módulo, basta criar arquivo com o *nome do módulo* mais o sufixo *.py*, contendo um conjunto de funções/instruções que podem ser **importadas** por um programa sempre que necessário. "
   ]
  },
  {
   "cell_type": "markdown",
   "metadata": {},
   "source": [
    "### Criando um módulo"
   ]
  },
  {
   "cell_type": "markdown",
   "metadata": {},
   "source": [
    "Abra um editor do Python (ou outro editor de texto) e escreva o código abaixo. Salve o arquivo com o seguinte nome \"*calculos.py*\", no mesmo local do arquivo contendo o programa que usará este módulo (no presente caso, na mesmo pasta em que está este arquivo da aula)."
   ]
  },
  {
   "cell_type": "markdown",
   "metadata": {},
   "source": [
    "#### Exemplo\n",
    "\n",
    "Copie e cole as funções abaixo em um editor de texto e salve com o nome *calculos.py* no mesmo local do arquivo contendo o programa que usará as funções.\n",
    "```\n",
    "# Modulo de Calculos\n",
    "\n",
    "def fatorial(n):\n",
    "    '''Retorna o fatorial de um número'''\n",
    "    fat = 1\n",
    "    for i in range(2,n+1):\n",
    "        fat = fat * i\n",
    "    print(fat)\n",
    "\n",
    "def fibonacci(limite):\n",
    "    '''Retorna o primeiro número de Fibonnaci maior do que o valor limite'''\n",
    "    x, y = 0, 1\n",
    "    while True:\n",
    "        x, y = y, x+y\n",
    "        if y > limite:\n",
    "            break\n",
    "    print(y)\n",
    "\n",
    "```\n"
   ]
  },
  {
   "cell_type": "markdown",
   "metadata": {},
   "source": [
    "### Utilizando o módulo"
   ]
  },
  {
   "cell_type": "code",
   "execution_count": null,
   "metadata": {},
   "outputs": [],
   "source": [
    "import calculos\n",
    "\n",
    "print(calculos.fatorial(4))\n",
    "print(calculos.fibonacci(10))"
   ]
  },
  {
   "cell_type": "code",
   "execution_count": null,
   "metadata": {},
   "outputs": [],
   "source": [
    "from calculos import *\n",
    "\n",
    "print(fatorial(4))\n",
    "print(fibonacci(10))"
   ]
  },
  {
   "cell_type": "markdown",
   "metadata": {},
   "source": [
    "### Adicionando outros locais que não o do arquivo contendo o programa "
   ]
  },
  {
   "cell_type": "code",
   "execution_count": 6,
   "metadata": {},
   "outputs": [],
   "source": [
    "import sys\n",
    "sys.path.append('C:\\\\Users\\\\Roberta.Roberta-PC\\\\Google Drive\\\\Marcelo_drive')"
   ]
  }
 ],
 "metadata": {
  "kernelspec": {
   "display_name": "Python 3",
   "language": "python",
   "name": "python3"
  },
  "language_info": {
   "codemirror_mode": {
    "name": "ipython",
    "version": 3
   },
   "file_extension": ".py",
   "mimetype": "text/x-python",
   "name": "python",
   "nbconvert_exporter": "python",
   "pygments_lexer": "ipython3",
   "version": "3.5.0"
  }
 },
 "nbformat": 4,
 "nbformat_minor": 2
}
